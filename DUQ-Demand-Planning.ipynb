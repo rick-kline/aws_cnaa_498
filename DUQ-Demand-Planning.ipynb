{
 "cells": [
  {
   "cell_type": "code",
   "execution_count": 32,
   "id": "50e6939b",
   "metadata": {
    "scrolled": true
   },
   "outputs": [
    {
     "name": "stdout",
     "output_type": "stream",
     "text": [
      "Requirement already satisfied: pip in /home/ec2-user/anaconda3/envs/python3/lib/python3.6/site-packages (21.1.2)\n",
      "Collecting PyAthena\n",
      "  Downloading PyAthena-2.3.0-py3-none-any.whl (37 kB)\n",
      "Requirement already satisfied: boto3>=1.4.4 in /home/ec2-user/anaconda3/envs/python3/lib/python3.6/site-packages (from PyAthena) (1.17.87)\n",
      "Requirement already satisfied: botocore>=1.5.52 in /home/ec2-user/anaconda3/envs/python3/lib/python3.6/site-packages (from PyAthena) (1.20.87)\n",
      "Collecting tenacity>=4.1.0\n",
      "  Downloading tenacity-7.0.0-py2.py3-none-any.whl (23 kB)\n",
      "Requirement already satisfied: s3transfer<0.5.0,>=0.4.0 in /home/ec2-user/anaconda3/envs/python3/lib/python3.6/site-packages (from boto3>=1.4.4->PyAthena) (0.4.2)\n",
      "Requirement already satisfied: jmespath<1.0.0,>=0.7.1 in /home/ec2-user/anaconda3/envs/python3/lib/python3.6/site-packages (from boto3>=1.4.4->PyAthena) (0.10.0)\n",
      "Requirement already satisfied: urllib3<1.27,>=1.25.4 in /home/ec2-user/anaconda3/envs/python3/lib/python3.6/site-packages (from botocore>=1.5.52->PyAthena) (1.26.5)\n",
      "Requirement already satisfied: python-dateutil<3.0.0,>=2.1 in /home/ec2-user/anaconda3/envs/python3/lib/python3.6/site-packages (from botocore>=1.5.52->PyAthena) (2.8.1)\n",
      "Requirement already satisfied: six>=1.5 in /home/ec2-user/anaconda3/envs/python3/lib/python3.6/site-packages (from python-dateutil<3.0.0,>=2.1->botocore>=1.5.52->PyAthena) (1.15.0)\n",
      "Installing collected packages: tenacity, PyAthena\n",
      "Successfully installed PyAthena-2.3.0 tenacity-7.0.0\n"
     ]
    }
   ],
   "source": [
    "! pip install --upgrade pip\n",
    "! pip install PyAthena"
   ]
  },
  {
   "cell_type": "code",
   "execution_count": 33,
   "id": "9a02f426",
   "metadata": {},
   "outputs": [
    {
     "data": {
      "text/html": [
       "<style>.container { width:100% !important; }</style>"
      ],
      "text/plain": [
       "<IPython.core.display.HTML object>"
      ]
     },
     "metadata": {},
     "output_type": "display_data"
    }
   ],
   "source": [
    "from pyathena import connect\n",
    "import pandas as pd\n",
    "import matplotlib.pyplot as plt\n",
    "import numpy as np\n",
    "\n",
    "from IPython.core.display import display, HTML\n",
    "display(HTML(\"<style>.container { width:100% !important; }</style>\"))"
   ]
  },
  {
   "cell_type": "code",
   "execution_count": 34,
   "id": "de1b958d",
   "metadata": {},
   "outputs": [],
   "source": [
    "import boto3\n",
    "import seaborn as sns\n",
    "import matplotlib.pyplot as plt\n",
    "import pickle"
   ]
  },
  {
   "cell_type": "code",
   "execution_count": 35,
   "id": "e758cd99",
   "metadata": {},
   "outputs": [],
   "source": [
    "conn = connect(s3_staging_dir='s3://energy-temperature-data/athena-queries',region_name='us-east-2')"
   ]
  },
  {
   "cell_type": "code",
   "execution_count": 68,
   "id": "bf7c9f1f",
   "metadata": {
    "scrolled": false
   },
   "outputs": [],
   "source": [
    "test_2021_df = pd.read_sql(\"SELECT load_area_id, \\\n",
    "                                    occurance_date_epoch_utc, \\\n",
    "                                    cast(substring(iso_occurance_date_utc, 1,19) as timestamp) iso_occurance_date_utc,\\\n",
    "                                    hrl_load_mw,\\\n",
    "                                    temp,\\\n",
    "                                    temp_feels_like,\\\n",
    "                                    temp_min,\\\n",
    "                                    temp_max,\\\n",
    "                                    humidity,\\\n",
    "                                    cloud_coverage,\\\n",
    "                                    wind_speed,\\\n",
    "                                    wind_direction,\\\n",
    "                                    atmospheric_pressure\\\n",
    "                                FROM lse_demand_planning_stg_catalog.energy_weather_lmp_fact \\\n",
    "                                WHERE occurance_date_epoch_utc >= 1609459200;\", conn)"
   ]
  },
  {
   "cell_type": "code",
   "execution_count": 70,
   "id": "9b096d2f",
   "metadata": {
    "scrolled": true
   },
   "outputs": [
    {
     "data": {
      "text/html": [
       "<div>\n",
       "<style scoped>\n",
       "    .dataframe tbody tr th:only-of-type {\n",
       "        vertical-align: middle;\n",
       "    }\n",
       "\n",
       "    .dataframe tbody tr th {\n",
       "        vertical-align: top;\n",
       "    }\n",
       "\n",
       "    .dataframe thead th {\n",
       "        text-align: right;\n",
       "    }\n",
       "</style>\n",
       "<table border=\"1\" class=\"dataframe\">\n",
       "  <thead>\n",
       "    <tr style=\"text-align: right;\">\n",
       "      <th></th>\n",
       "      <th>load_area_id</th>\n",
       "      <th>occurance_date_epoch_utc</th>\n",
       "      <th>iso_occurance_date_utc</th>\n",
       "      <th>hrl_load_mw</th>\n",
       "      <th>temp</th>\n",
       "      <th>temp_feels_like</th>\n",
       "      <th>temp_min</th>\n",
       "      <th>temp_max</th>\n",
       "      <th>humidity</th>\n",
       "      <th>cloud_coverage</th>\n",
       "      <th>wind_speed</th>\n",
       "      <th>wind_direction</th>\n",
       "      <th>atmospheric_pressure</th>\n",
       "    </tr>\n",
       "  </thead>\n",
       "  <tbody>\n",
       "    <tr>\n",
       "      <th>0</th>\n",
       "      <td>DUQ</td>\n",
       "      <td>1611489600</td>\n",
       "      <td>2021-01-24 12:00:00</td>\n",
       "      <td>1515.108</td>\n",
       "      <td>12.61</td>\n",
       "      <td>4.84</td>\n",
       "      <td>8.06</td>\n",
       "      <td>20.55</td>\n",
       "      <td>85</td>\n",
       "      <td>0.40</td>\n",
       "      <td>3.44</td>\n",
       "      <td>140</td>\n",
       "      <td>1026</td>\n",
       "    </tr>\n",
       "    <tr>\n",
       "      <th>1</th>\n",
       "      <td>DUQ</td>\n",
       "      <td>1614672000</td>\n",
       "      <td>2021-03-02 08:00:00</td>\n",
       "      <td>1344.279</td>\n",
       "      <td>22.68</td>\n",
       "      <td>9.90</td>\n",
       "      <td>NaN</td>\n",
       "      <td>24.80</td>\n",
       "      <td>63</td>\n",
       "      <td>0.75</td>\n",
       "      <td>12.66</td>\n",
       "      <td>340</td>\n",
       "      <td>1024</td>\n",
       "    </tr>\n",
       "    <tr>\n",
       "      <th>2</th>\n",
       "      <td>DUQ</td>\n",
       "      <td>1611550800</td>\n",
       "      <td>2021-01-25 05:00:00</td>\n",
       "      <td>1404.307</td>\n",
       "      <td>26.20</td>\n",
       "      <td>20.70</td>\n",
       "      <td>24.80</td>\n",
       "      <td>NaN</td>\n",
       "      <td>80</td>\n",
       "      <td>0.90</td>\n",
       "      <td>1.05</td>\n",
       "      <td>321</td>\n",
       "      <td>1016</td>\n",
       "    </tr>\n",
       "    <tr>\n",
       "      <th>3</th>\n",
       "      <td>DUQ</td>\n",
       "      <td>1617840000</td>\n",
       "      <td>2021-04-08 00:00:00</td>\n",
       "      <td>1502.855</td>\n",
       "      <td>72.99</td>\n",
       "      <td>70.09</td>\n",
       "      <td>63.37</td>\n",
       "      <td>75.20</td>\n",
       "      <td>38</td>\n",
       "      <td>0.75</td>\n",
       "      <td>3.44</td>\n",
       "      <td>20</td>\n",
       "      <td>1013</td>\n",
       "    </tr>\n",
       "    <tr>\n",
       "      <th>4</th>\n",
       "      <td>DUQ</td>\n",
       "      <td>1613138400</td>\n",
       "      <td>2021-02-12 14:00:00</td>\n",
       "      <td>1752.006</td>\n",
       "      <td>22.19</td>\n",
       "      <td>10.80</td>\n",
       "      <td>19.99</td>\n",
       "      <td>24.80</td>\n",
       "      <td>68</td>\n",
       "      <td>0.90</td>\n",
       "      <td>10.36</td>\n",
       "      <td>60</td>\n",
       "      <td>1021</td>\n",
       "    </tr>\n",
       "  </tbody>\n",
       "</table>\n",
       "</div>"
      ],
      "text/plain": [
       "  load_area_id  occurance_date_epoch_utc iso_occurance_date_utc  hrl_load_mw  \\\n",
       "0          DUQ                1611489600    2021-01-24 12:00:00     1515.108   \n",
       "1          DUQ                1614672000    2021-03-02 08:00:00     1344.279   \n",
       "2          DUQ                1611550800    2021-01-25 05:00:00     1404.307   \n",
       "3          DUQ                1617840000    2021-04-08 00:00:00     1502.855   \n",
       "4          DUQ                1613138400    2021-02-12 14:00:00     1752.006   \n",
       "\n",
       "    temp  temp_feels_like  temp_min  temp_max  humidity  cloud_coverage  \\\n",
       "0  12.61             4.84      8.06     20.55        85            0.40   \n",
       "1  22.68             9.90       NaN     24.80        63            0.75   \n",
       "2  26.20            20.70     24.80       NaN        80            0.90   \n",
       "3  72.99            70.09     63.37     75.20        38            0.75   \n",
       "4  22.19            10.80     19.99     24.80        68            0.90   \n",
       "\n",
       "   wind_speed  wind_direction  atmospheric_pressure  \n",
       "0        3.44             140                  1026  \n",
       "1       12.66             340                  1024  \n",
       "2        1.05             321                  1016  \n",
       "3        3.44              20                  1013  \n",
       "4       10.36              60                  1021  "
      ]
     },
     "execution_count": 70,
     "metadata": {},
     "output_type": "execute_result"
    }
   ],
   "source": [
    "test_2021_df.head()"
   ]
  },
  {
   "cell_type": "markdown",
   "id": "efd38090",
   "metadata": {},
   "source": [
    "# add additional date and time columns"
   ]
  },
  {
   "cell_type": "code",
   "execution_count": 71,
   "id": "8755af15",
   "metadata": {
    "scrolled": true
   },
   "outputs": [],
   "source": [
    "test_2021_df['hour'] = test_2021_df['iso_occurance_date_utc'].dt.hour\n",
    "\n",
    "test_2021_df['day'] = test_2021_df['iso_occurance_date_utc'].dt.day\n",
    "\n",
    "test_2021_df['weekday'] = test_2021_df['iso_occurance_date_utc'].dt.dayofweek\n",
    "\n",
    "test_2021_df['month'] = test_2021_df['iso_occurance_date_utc'].dt.month\n",
    "\n",
    "test_2021_df['year'] = test_2021_df['iso_occurance_date_utc'].dt.year"
   ]
  },
  {
   "cell_type": "markdown",
   "id": "5b8bbc93",
   "metadata": {},
   "source": [
    "# set index"
   ]
  },
  {
   "cell_type": "code",
   "execution_count": 72,
   "id": "eb46f08f",
   "metadata": {
    "scrolled": true
   },
   "outputs": [],
   "source": [
    "test_2021_df = test_2021_df.set_index('iso_occurance_date_utc')"
   ]
  },
  {
   "cell_type": "code",
   "execution_count": 73,
   "id": "5ff8e4c4",
   "metadata": {},
   "outputs": [],
   "source": [
    "test_2021_df = test_2021_df[[\"load_area_id\", \\\n",
    "                                    \"occurance_date_epoch_utc\", \\\n",
    "                                    \"hour\", \\\n",
    "                                    \"day\", \\\n",
    "                                    \"weekday\", \\\n",
    "                                    \"month\", \\\n",
    "                                    \"year\", \\\n",
    "                                    \"hrl_load_mw\",\\\n",
    "                                    \"temp\",\\\n",
    "                                    \"temp_feels_like\",\\\n",
    "                                    \"temp_min\",\\\n",
    "                                    \"temp_max\",\\\n",
    "                                    \"humidity\",\\\n",
    "                                    \"cloud_coverage\",\\\n",
    "                                    \"wind_speed\",\\\n",
    "                                    \"wind_direction\",\\\n",
    "                                    \"atmospheric_pressure\"]]"
   ]
  },
  {
   "cell_type": "code",
   "execution_count": 74,
   "id": "fc843f0e",
   "metadata": {
    "scrolled": false
   },
   "outputs": [
    {
     "data": {
      "text/html": [
       "<div>\n",
       "<style scoped>\n",
       "    .dataframe tbody tr th:only-of-type {\n",
       "        vertical-align: middle;\n",
       "    }\n",
       "\n",
       "    .dataframe tbody tr th {\n",
       "        vertical-align: top;\n",
       "    }\n",
       "\n",
       "    .dataframe thead th {\n",
       "        text-align: right;\n",
       "    }\n",
       "</style>\n",
       "<table border=\"1\" class=\"dataframe\">\n",
       "  <thead>\n",
       "    <tr style=\"text-align: right;\">\n",
       "      <th></th>\n",
       "      <th>load_area_id</th>\n",
       "      <th>occurance_date_epoch_utc</th>\n",
       "      <th>hour</th>\n",
       "      <th>day</th>\n",
       "      <th>weekday</th>\n",
       "      <th>month</th>\n",
       "      <th>year</th>\n",
       "      <th>hrl_load_mw</th>\n",
       "      <th>temp</th>\n",
       "      <th>temp_feels_like</th>\n",
       "      <th>temp_min</th>\n",
       "      <th>temp_max</th>\n",
       "      <th>humidity</th>\n",
       "      <th>cloud_coverage</th>\n",
       "      <th>wind_speed</th>\n",
       "      <th>wind_direction</th>\n",
       "      <th>atmospheric_pressure</th>\n",
       "    </tr>\n",
       "    <tr>\n",
       "      <th>iso_occurance_date_utc</th>\n",
       "      <th></th>\n",
       "      <th></th>\n",
       "      <th></th>\n",
       "      <th></th>\n",
       "      <th></th>\n",
       "      <th></th>\n",
       "      <th></th>\n",
       "      <th></th>\n",
       "      <th></th>\n",
       "      <th></th>\n",
       "      <th></th>\n",
       "      <th></th>\n",
       "      <th></th>\n",
       "      <th></th>\n",
       "      <th></th>\n",
       "      <th></th>\n",
       "      <th></th>\n",
       "    </tr>\n",
       "  </thead>\n",
       "  <tbody>\n",
       "    <tr>\n",
       "      <th>2021-01-24 12:00:00</th>\n",
       "      <td>DUQ</td>\n",
       "      <td>1611489600</td>\n",
       "      <td>12</td>\n",
       "      <td>24</td>\n",
       "      <td>6</td>\n",
       "      <td>1</td>\n",
       "      <td>2021</td>\n",
       "      <td>1515.108</td>\n",
       "      <td>12.61</td>\n",
       "      <td>4.84</td>\n",
       "      <td>8.06</td>\n",
       "      <td>20.55</td>\n",
       "      <td>85</td>\n",
       "      <td>0.40</td>\n",
       "      <td>3.44</td>\n",
       "      <td>140</td>\n",
       "      <td>1026</td>\n",
       "    </tr>\n",
       "    <tr>\n",
       "      <th>2021-03-02 08:00:00</th>\n",
       "      <td>DUQ</td>\n",
       "      <td>1614672000</td>\n",
       "      <td>8</td>\n",
       "      <td>2</td>\n",
       "      <td>1</td>\n",
       "      <td>3</td>\n",
       "      <td>2021</td>\n",
       "      <td>1344.279</td>\n",
       "      <td>22.68</td>\n",
       "      <td>9.90</td>\n",
       "      <td>NaN</td>\n",
       "      <td>24.80</td>\n",
       "      <td>63</td>\n",
       "      <td>0.75</td>\n",
       "      <td>12.66</td>\n",
       "      <td>340</td>\n",
       "      <td>1024</td>\n",
       "    </tr>\n",
       "    <tr>\n",
       "      <th>2021-01-25 05:00:00</th>\n",
       "      <td>DUQ</td>\n",
       "      <td>1611550800</td>\n",
       "      <td>5</td>\n",
       "      <td>25</td>\n",
       "      <td>0</td>\n",
       "      <td>1</td>\n",
       "      <td>2021</td>\n",
       "      <td>1404.307</td>\n",
       "      <td>26.20</td>\n",
       "      <td>20.70</td>\n",
       "      <td>24.80</td>\n",
       "      <td>NaN</td>\n",
       "      <td>80</td>\n",
       "      <td>0.90</td>\n",
       "      <td>1.05</td>\n",
       "      <td>321</td>\n",
       "      <td>1016</td>\n",
       "    </tr>\n",
       "    <tr>\n",
       "      <th>2021-04-08 00:00:00</th>\n",
       "      <td>DUQ</td>\n",
       "      <td>1617840000</td>\n",
       "      <td>0</td>\n",
       "      <td>8</td>\n",
       "      <td>3</td>\n",
       "      <td>4</td>\n",
       "      <td>2021</td>\n",
       "      <td>1502.855</td>\n",
       "      <td>72.99</td>\n",
       "      <td>70.09</td>\n",
       "      <td>63.37</td>\n",
       "      <td>75.20</td>\n",
       "      <td>38</td>\n",
       "      <td>0.75</td>\n",
       "      <td>3.44</td>\n",
       "      <td>20</td>\n",
       "      <td>1013</td>\n",
       "    </tr>\n",
       "    <tr>\n",
       "      <th>2021-02-12 14:00:00</th>\n",
       "      <td>DUQ</td>\n",
       "      <td>1613138400</td>\n",
       "      <td>14</td>\n",
       "      <td>12</td>\n",
       "      <td>4</td>\n",
       "      <td>2</td>\n",
       "      <td>2021</td>\n",
       "      <td>1752.006</td>\n",
       "      <td>22.19</td>\n",
       "      <td>10.80</td>\n",
       "      <td>19.99</td>\n",
       "      <td>24.80</td>\n",
       "      <td>68</td>\n",
       "      <td>0.90</td>\n",
       "      <td>10.36</td>\n",
       "      <td>60</td>\n",
       "      <td>1021</td>\n",
       "    </tr>\n",
       "  </tbody>\n",
       "</table>\n",
       "</div>"
      ],
      "text/plain": [
       "                       load_area_id  occurance_date_epoch_utc  hour  day  \\\n",
       "iso_occurance_date_utc                                                     \n",
       "2021-01-24 12:00:00             DUQ                1611489600    12   24   \n",
       "2021-03-02 08:00:00             DUQ                1614672000     8    2   \n",
       "2021-01-25 05:00:00             DUQ                1611550800     5   25   \n",
       "2021-04-08 00:00:00             DUQ                1617840000     0    8   \n",
       "2021-02-12 14:00:00             DUQ                1613138400    14   12   \n",
       "\n",
       "                        weekday  month  year  hrl_load_mw   temp  \\\n",
       "iso_occurance_date_utc                                             \n",
       "2021-01-24 12:00:00           6      1  2021     1515.108  12.61   \n",
       "2021-03-02 08:00:00           1      3  2021     1344.279  22.68   \n",
       "2021-01-25 05:00:00           0      1  2021     1404.307  26.20   \n",
       "2021-04-08 00:00:00           3      4  2021     1502.855  72.99   \n",
       "2021-02-12 14:00:00           4      2  2021     1752.006  22.19   \n",
       "\n",
       "                        temp_feels_like  temp_min  temp_max  humidity  \\\n",
       "iso_occurance_date_utc                                                  \n",
       "2021-01-24 12:00:00                4.84      8.06     20.55        85   \n",
       "2021-03-02 08:00:00                9.90       NaN     24.80        63   \n",
       "2021-01-25 05:00:00               20.70     24.80       NaN        80   \n",
       "2021-04-08 00:00:00               70.09     63.37     75.20        38   \n",
       "2021-02-12 14:00:00               10.80     19.99     24.80        68   \n",
       "\n",
       "                        cloud_coverage  wind_speed  wind_direction  \\\n",
       "iso_occurance_date_utc                                               \n",
       "2021-01-24 12:00:00               0.40        3.44             140   \n",
       "2021-03-02 08:00:00               0.75       12.66             340   \n",
       "2021-01-25 05:00:00               0.90        1.05             321   \n",
       "2021-04-08 00:00:00               0.75        3.44              20   \n",
       "2021-02-12 14:00:00               0.90       10.36              60   \n",
       "\n",
       "                        atmospheric_pressure  \n",
       "iso_occurance_date_utc                        \n",
       "2021-01-24 12:00:00                     1026  \n",
       "2021-03-02 08:00:00                     1024  \n",
       "2021-01-25 05:00:00                     1016  \n",
       "2021-04-08 00:00:00                     1013  \n",
       "2021-02-12 14:00:00                     1021  "
      ]
     },
     "execution_count": 74,
     "metadata": {},
     "output_type": "execute_result"
    }
   ],
   "source": [
    "test_2021_df.head()"
   ]
  },
  {
   "cell_type": "markdown",
   "id": "2dab3aaa",
   "metadata": {},
   "source": [
    "# Check for nulls"
   ]
  },
  {
   "cell_type": "code",
   "execution_count": 32,
   "id": "a4bdca53",
   "metadata": {},
   "outputs": [
    {
     "data": {
      "text/plain": [
       "load_area_id                   0\n",
       "occurance_date_epoch_utc       0\n",
       "hour                           0\n",
       "day                            0\n",
       "weekday                        0\n",
       "month                          0\n",
       "year                           0\n",
       "hrl_load_mw                   98\n",
       "temp                         122\n",
       "temp_feels_like              125\n",
       "temp_min                    1075\n",
       "temp_max                    1305\n",
       "humidity                       0\n",
       "cloud_coverage                 1\n",
       "wind_speed                   106\n",
       "wind_direction                 0\n",
       "atmospheric_pressure           0\n",
       "dtype: int64"
      ]
     },
     "execution_count": 32,
     "metadata": {},
     "output_type": "execute_result"
    }
   ],
   "source": [
    "test_2021_df.isnull().sum()"
   ]
  },
  {
   "cell_type": "markdown",
   "id": "c223957d",
   "metadata": {},
   "source": [
    "### Interpolate linearly missing / unreported temperatue values"
   ]
  },
  {
   "cell_type": "code",
   "execution_count": 33,
   "id": "eac22ea4",
   "metadata": {},
   "outputs": [
    {
     "data": {
      "text/html": [
       "<div>\n",
       "<style scoped>\n",
       "    .dataframe tbody tr th:only-of-type {\n",
       "        vertical-align: middle;\n",
       "    }\n",
       "\n",
       "    .dataframe tbody tr th {\n",
       "        vertical-align: top;\n",
       "    }\n",
       "\n",
       "    .dataframe thead th {\n",
       "        text-align: right;\n",
       "    }\n",
       "</style>\n",
       "<table border=\"1\" class=\"dataframe\">\n",
       "  <thead>\n",
       "    <tr style=\"text-align: right;\">\n",
       "      <th></th>\n",
       "      <th>load_area_id</th>\n",
       "      <th>occurance_date_epoch_utc</th>\n",
       "      <th>hour</th>\n",
       "      <th>day</th>\n",
       "      <th>weekday</th>\n",
       "      <th>month</th>\n",
       "      <th>year</th>\n",
       "      <th>hrl_load_mw</th>\n",
       "      <th>temp</th>\n",
       "      <th>temp_feels_like</th>\n",
       "      <th>temp_min</th>\n",
       "      <th>temp_max</th>\n",
       "      <th>humidity</th>\n",
       "      <th>cloud_coverage</th>\n",
       "      <th>wind_speed</th>\n",
       "      <th>wind_direction</th>\n",
       "      <th>atmospheric_pressure</th>\n",
       "    </tr>\n",
       "    <tr>\n",
       "      <th>iso_occurance_date_utc</th>\n",
       "      <th></th>\n",
       "      <th></th>\n",
       "      <th></th>\n",
       "      <th></th>\n",
       "      <th></th>\n",
       "      <th></th>\n",
       "      <th></th>\n",
       "      <th></th>\n",
       "      <th></th>\n",
       "      <th></th>\n",
       "      <th></th>\n",
       "      <th></th>\n",
       "      <th></th>\n",
       "      <th></th>\n",
       "      <th></th>\n",
       "      <th></th>\n",
       "      <th></th>\n",
       "    </tr>\n",
       "  </thead>\n",
       "  <tbody>\n",
       "    <tr>\n",
       "      <th>2021-03-21 16:00:00</th>\n",
       "      <td>DUQ</td>\n",
       "      <td>1616342400</td>\n",
       "      <td>16</td>\n",
       "      <td>21</td>\n",
       "      <td>6</td>\n",
       "      <td>3</td>\n",
       "      <td>2021</td>\n",
       "      <td>1274.449</td>\n",
       "      <td>NaN</td>\n",
       "      <td>46.18</td>\n",
       "      <td>51.71</td>\n",
       "      <td>NaN</td>\n",
       "      <td>26</td>\n",
       "      <td>0.01</td>\n",
       "      <td>6.91</td>\n",
       "      <td>140</td>\n",
       "      <td>1031</td>\n",
       "    </tr>\n",
       "    <tr>\n",
       "      <th>2021-03-23 20:00:00</th>\n",
       "      <td>DUQ</td>\n",
       "      <td>1616529600</td>\n",
       "      <td>20</td>\n",
       "      <td>23</td>\n",
       "      <td>1</td>\n",
       "      <td>3</td>\n",
       "      <td>2021</td>\n",
       "      <td>1361.448</td>\n",
       "      <td>NaN</td>\n",
       "      <td>55.17</td>\n",
       "      <td>63.31</td>\n",
       "      <td>NaN</td>\n",
       "      <td>27</td>\n",
       "      <td>0.90</td>\n",
       "      <td>12.66</td>\n",
       "      <td>130</td>\n",
       "      <td>1016</td>\n",
       "    </tr>\n",
       "    <tr>\n",
       "      <th>2021-03-25 04:00:00</th>\n",
       "      <td>DUQ</td>\n",
       "      <td>1616644800</td>\n",
       "      <td>4</td>\n",
       "      <td>25</td>\n",
       "      <td>3</td>\n",
       "      <td>3</td>\n",
       "      <td>2021</td>\n",
       "      <td>1134.091</td>\n",
       "      <td>NaN</td>\n",
       "      <td>54.77</td>\n",
       "      <td>53.01</td>\n",
       "      <td>64.40</td>\n",
       "      <td>55</td>\n",
       "      <td>0.40</td>\n",
       "      <td>4.61</td>\n",
       "      <td>250</td>\n",
       "      <td>1013</td>\n",
       "    </tr>\n",
       "    <tr>\n",
       "      <th>2021-04-29 08:00:00</th>\n",
       "      <td>DUQ</td>\n",
       "      <td>1619683200</td>\n",
       "      <td>8</td>\n",
       "      <td>29</td>\n",
       "      <td>3</td>\n",
       "      <td>4</td>\n",
       "      <td>2021</td>\n",
       "      <td>1222.174</td>\n",
       "      <td>NaN</td>\n",
       "      <td>64.83</td>\n",
       "      <td>NaN</td>\n",
       "      <td>64.99</td>\n",
       "      <td>88</td>\n",
       "      <td>0.90</td>\n",
       "      <td>4.61</td>\n",
       "      <td>230</td>\n",
       "      <td>1009</td>\n",
       "    </tr>\n",
       "    <tr>\n",
       "      <th>2021-02-04 07:00:00</th>\n",
       "      <td>DUQ</td>\n",
       "      <td>1612422000</td>\n",
       "      <td>7</td>\n",
       "      <td>4</td>\n",
       "      <td>3</td>\n",
       "      <td>2</td>\n",
       "      <td>2021</td>\n",
       "      <td>1420.666</td>\n",
       "      <td>NaN</td>\n",
       "      <td>10.58</td>\n",
       "      <td>12.99</td>\n",
       "      <td>21.99</td>\n",
       "      <td>85</td>\n",
       "      <td>0.20</td>\n",
       "      <td>3.44</td>\n",
       "      <td>290</td>\n",
       "      <td>1015</td>\n",
       "    </tr>\n",
       "    <tr>\n",
       "      <th>...</th>\n",
       "      <td>...</td>\n",
       "      <td>...</td>\n",
       "      <td>...</td>\n",
       "      <td>...</td>\n",
       "      <td>...</td>\n",
       "      <td>...</td>\n",
       "      <td>...</td>\n",
       "      <td>...</td>\n",
       "      <td>...</td>\n",
       "      <td>...</td>\n",
       "      <td>...</td>\n",
       "      <td>...</td>\n",
       "      <td>...</td>\n",
       "      <td>...</td>\n",
       "      <td>...</td>\n",
       "      <td>...</td>\n",
       "      <td>...</td>\n",
       "    </tr>\n",
       "    <tr>\n",
       "      <th>2021-05-26 17:00:00</th>\n",
       "      <td>DUQ</td>\n",
       "      <td>1622048400</td>\n",
       "      <td>17</td>\n",
       "      <td>26</td>\n",
       "      <td>2</td>\n",
       "      <td>5</td>\n",
       "      <td>2021</td>\n",
       "      <td>2172.249</td>\n",
       "      <td>NaN</td>\n",
       "      <td>NaN</td>\n",
       "      <td>NaN</td>\n",
       "      <td>NaN</td>\n",
       "      <td>47</td>\n",
       "      <td>0.04</td>\n",
       "      <td>NaN</td>\n",
       "      <td>207</td>\n",
       "      <td>973</td>\n",
       "    </tr>\n",
       "    <tr>\n",
       "      <th>2021-05-26 21:00:00</th>\n",
       "      <td>DUQ</td>\n",
       "      <td>1622062800</td>\n",
       "      <td>21</td>\n",
       "      <td>26</td>\n",
       "      <td>2</td>\n",
       "      <td>5</td>\n",
       "      <td>2021</td>\n",
       "      <td>2027.691</td>\n",
       "      <td>NaN</td>\n",
       "      <td>NaN</td>\n",
       "      <td>NaN</td>\n",
       "      <td>NaN</td>\n",
       "      <td>73</td>\n",
       "      <td>0.04</td>\n",
       "      <td>NaN</td>\n",
       "      <td>207</td>\n",
       "      <td>972</td>\n",
       "    </tr>\n",
       "    <tr>\n",
       "      <th>2021-02-28 10:00:00</th>\n",
       "      <td>DUQ</td>\n",
       "      <td>1614506400</td>\n",
       "      <td>10</td>\n",
       "      <td>28</td>\n",
       "      <td>6</td>\n",
       "      <td>2</td>\n",
       "      <td>2021</td>\n",
       "      <td>1209.972</td>\n",
       "      <td>NaN</td>\n",
       "      <td>35.06</td>\n",
       "      <td>37.99</td>\n",
       "      <td>43.40</td>\n",
       "      <td>87</td>\n",
       "      <td>0.90</td>\n",
       "      <td>5.75</td>\n",
       "      <td>120</td>\n",
       "      <td>1018</td>\n",
       "    </tr>\n",
       "    <tr>\n",
       "      <th>2021-05-29 21:00:00</th>\n",
       "      <td>DUQ</td>\n",
       "      <td>1622322000</td>\n",
       "      <td>21</td>\n",
       "      <td>29</td>\n",
       "      <td>5</td>\n",
       "      <td>5</td>\n",
       "      <td>2021</td>\n",
       "      <td>1249.904</td>\n",
       "      <td>NaN</td>\n",
       "      <td>42.01</td>\n",
       "      <td>NaN</td>\n",
       "      <td>NaN</td>\n",
       "      <td>87</td>\n",
       "      <td>0.90</td>\n",
       "      <td>12.66</td>\n",
       "      <td>60</td>\n",
       "      <td>1015</td>\n",
       "    </tr>\n",
       "    <tr>\n",
       "      <th>2021-05-30 17:00:00</th>\n",
       "      <td>DUQ</td>\n",
       "      <td>1622394000</td>\n",
       "      <td>17</td>\n",
       "      <td>30</td>\n",
       "      <td>6</td>\n",
       "      <td>5</td>\n",
       "      <td>2021</td>\n",
       "      <td>1243.036</td>\n",
       "      <td>NaN</td>\n",
       "      <td>48.90</td>\n",
       "      <td>NaN</td>\n",
       "      <td>NaN</td>\n",
       "      <td>71</td>\n",
       "      <td>0.90</td>\n",
       "      <td>6.91</td>\n",
       "      <td>100</td>\n",
       "      <td>1021</td>\n",
       "    </tr>\n",
       "  </tbody>\n",
       "</table>\n",
       "<p>122 rows × 17 columns</p>\n",
       "</div>"
      ],
      "text/plain": [
       "                       load_area_id  occurance_date_epoch_utc  hour  day  \\\n",
       "iso_occurance_date_utc                                                     \n",
       "2021-03-21 16:00:00             DUQ                1616342400    16   21   \n",
       "2021-03-23 20:00:00             DUQ                1616529600    20   23   \n",
       "2021-03-25 04:00:00             DUQ                1616644800     4   25   \n",
       "2021-04-29 08:00:00             DUQ                1619683200     8   29   \n",
       "2021-02-04 07:00:00             DUQ                1612422000     7    4   \n",
       "...                             ...                       ...   ...  ...   \n",
       "2021-05-26 17:00:00             DUQ                1622048400    17   26   \n",
       "2021-05-26 21:00:00             DUQ                1622062800    21   26   \n",
       "2021-02-28 10:00:00             DUQ                1614506400    10   28   \n",
       "2021-05-29 21:00:00             DUQ                1622322000    21   29   \n",
       "2021-05-30 17:00:00             DUQ                1622394000    17   30   \n",
       "\n",
       "                        weekday  month  year  hrl_load_mw  temp  \\\n",
       "iso_occurance_date_utc                                            \n",
       "2021-03-21 16:00:00           6      3  2021     1274.449   NaN   \n",
       "2021-03-23 20:00:00           1      3  2021     1361.448   NaN   \n",
       "2021-03-25 04:00:00           3      3  2021     1134.091   NaN   \n",
       "2021-04-29 08:00:00           3      4  2021     1222.174   NaN   \n",
       "2021-02-04 07:00:00           3      2  2021     1420.666   NaN   \n",
       "...                         ...    ...   ...          ...   ...   \n",
       "2021-05-26 17:00:00           2      5  2021     2172.249   NaN   \n",
       "2021-05-26 21:00:00           2      5  2021     2027.691   NaN   \n",
       "2021-02-28 10:00:00           6      2  2021     1209.972   NaN   \n",
       "2021-05-29 21:00:00           5      5  2021     1249.904   NaN   \n",
       "2021-05-30 17:00:00           6      5  2021     1243.036   NaN   \n",
       "\n",
       "                        temp_feels_like  temp_min  temp_max  humidity  \\\n",
       "iso_occurance_date_utc                                                  \n",
       "2021-03-21 16:00:00               46.18     51.71       NaN        26   \n",
       "2021-03-23 20:00:00               55.17     63.31       NaN        27   \n",
       "2021-03-25 04:00:00               54.77     53.01     64.40        55   \n",
       "2021-04-29 08:00:00               64.83       NaN     64.99        88   \n",
       "2021-02-04 07:00:00               10.58     12.99     21.99        85   \n",
       "...                                 ...       ...       ...       ...   \n",
       "2021-05-26 17:00:00                 NaN       NaN       NaN        47   \n",
       "2021-05-26 21:00:00                 NaN       NaN       NaN        73   \n",
       "2021-02-28 10:00:00               35.06     37.99     43.40        87   \n",
       "2021-05-29 21:00:00               42.01       NaN       NaN        87   \n",
       "2021-05-30 17:00:00               48.90       NaN       NaN        71   \n",
       "\n",
       "                        cloud_coverage  wind_speed  wind_direction  \\\n",
       "iso_occurance_date_utc                                               \n",
       "2021-03-21 16:00:00               0.01        6.91             140   \n",
       "2021-03-23 20:00:00               0.90       12.66             130   \n",
       "2021-03-25 04:00:00               0.40        4.61             250   \n",
       "2021-04-29 08:00:00               0.90        4.61             230   \n",
       "2021-02-04 07:00:00               0.20        3.44             290   \n",
       "...                                ...         ...             ...   \n",
       "2021-05-26 17:00:00               0.04         NaN             207   \n",
       "2021-05-26 21:00:00               0.04         NaN             207   \n",
       "2021-02-28 10:00:00               0.90        5.75             120   \n",
       "2021-05-29 21:00:00               0.90       12.66              60   \n",
       "2021-05-30 17:00:00               0.90        6.91             100   \n",
       "\n",
       "                        atmospheric_pressure  \n",
       "iso_occurance_date_utc                        \n",
       "2021-03-21 16:00:00                     1031  \n",
       "2021-03-23 20:00:00                     1016  \n",
       "2021-03-25 04:00:00                     1013  \n",
       "2021-04-29 08:00:00                     1009  \n",
       "2021-02-04 07:00:00                     1015  \n",
       "...                                      ...  \n",
       "2021-05-26 17:00:00                      973  \n",
       "2021-05-26 21:00:00                      972  \n",
       "2021-02-28 10:00:00                     1018  \n",
       "2021-05-29 21:00:00                     1015  \n",
       "2021-05-30 17:00:00                     1021  \n",
       "\n",
       "[122 rows x 17 columns]"
      ]
     },
     "execution_count": 33,
     "metadata": {},
     "output_type": "execute_result"
    }
   ],
   "source": [
    "test_2021_df[test_2021_df['temp'].isnull()]"
   ]
  },
  {
   "cell_type": "code",
   "execution_count": 75,
   "id": "4c67eec1",
   "metadata": {},
   "outputs": [],
   "source": [
    "test_2021_df = test_2021_df.interpolate(method ='linear', limit_direction ='forward')"
   ]
  },
  {
   "cell_type": "code",
   "execution_count": 85,
   "id": "5a8cdc99",
   "metadata": {
    "scrolled": false
   },
   "outputs": [
    {
     "data": {
      "text/plain": [
       "load_area_id                0\n",
       "occurance_date_epoch_utc    0\n",
       "hour                        0\n",
       "day                         0\n",
       "weekday                     0\n",
       "month                       0\n",
       "year                        0\n",
       "hrl_load_mw                 0\n",
       "temp                        0\n",
       "temp_feels_like             0\n",
       "temp_min                    0\n",
       "temp_max                    0\n",
       "humidity                    0\n",
       "cloud_coverage              0\n",
       "wind_speed                  0\n",
       "wind_direction              0\n",
       "atmospheric_pressure        0\n",
       "temp_scaled                 0\n",
       "temp_sqd                    0\n",
       "dtype: int64"
      ]
     },
     "execution_count": 85,
     "metadata": {},
     "output_type": "execute_result"
    }
   ],
   "source": [
    "test_2021_df.isnull().sum()"
   ]
  },
  {
   "cell_type": "code",
   "execution_count": 56,
   "id": "ee96a757",
   "metadata": {},
   "outputs": [
    {
     "data": {
      "text/html": [
       "<div>\n",
       "<style scoped>\n",
       "    .dataframe tbody tr th:only-of-type {\n",
       "        vertical-align: middle;\n",
       "    }\n",
       "\n",
       "    .dataframe tbody tr th {\n",
       "        vertical-align: top;\n",
       "    }\n",
       "\n",
       "    .dataframe thead th {\n",
       "        text-align: right;\n",
       "    }\n",
       "</style>\n",
       "<table border=\"1\" class=\"dataframe\">\n",
       "  <thead>\n",
       "    <tr style=\"text-align: right;\">\n",
       "      <th></th>\n",
       "      <th>load_area_id</th>\n",
       "      <th>occurance_date_epoch_utc</th>\n",
       "      <th>hour</th>\n",
       "      <th>day</th>\n",
       "      <th>weekday</th>\n",
       "      <th>month</th>\n",
       "      <th>year</th>\n",
       "      <th>hrl_load_mw</th>\n",
       "      <th>temp</th>\n",
       "      <th>temp_feels_like</th>\n",
       "      <th>temp_min</th>\n",
       "      <th>temp_max</th>\n",
       "      <th>humidity</th>\n",
       "      <th>cloud_coverage</th>\n",
       "      <th>wind_speed</th>\n",
       "      <th>wind_direction</th>\n",
       "      <th>atmospheric_pressure</th>\n",
       "    </tr>\n",
       "    <tr>\n",
       "      <th>iso_occurance_date_utc</th>\n",
       "      <th></th>\n",
       "      <th></th>\n",
       "      <th></th>\n",
       "      <th></th>\n",
       "      <th></th>\n",
       "      <th></th>\n",
       "      <th></th>\n",
       "      <th></th>\n",
       "      <th></th>\n",
       "      <th></th>\n",
       "      <th></th>\n",
       "      <th></th>\n",
       "      <th></th>\n",
       "      <th></th>\n",
       "      <th></th>\n",
       "      <th></th>\n",
       "      <th></th>\n",
       "    </tr>\n",
       "  </thead>\n",
       "  <tbody>\n",
       "    <tr>\n",
       "      <th>2021-01-06 06:00:00</th>\n",
       "      <td>DUQ</td>\n",
       "      <td>1609912800</td>\n",
       "      <td>6</td>\n",
       "      <td>6</td>\n",
       "      <td>2</td>\n",
       "      <td>1</td>\n",
       "      <td>2021</td>\n",
       "      <td>1317.85</td>\n",
       "      <td>32.49</td>\n",
       "      <td>23.07</td>\n",
       "      <td>30.23</td>\n",
       "      <td>NaN</td>\n",
       "      <td>80</td>\n",
       "      <td>0.9</td>\n",
       "      <td>9.17</td>\n",
       "      <td>320</td>\n",
       "      <td>1018</td>\n",
       "    </tr>\n",
       "  </tbody>\n",
       "</table>\n",
       "</div>"
      ],
      "text/plain": [
       "                       load_area_id  occurance_date_epoch_utc  hour  day  \\\n",
       "iso_occurance_date_utc                                                     \n",
       "2021-01-06 06:00:00             DUQ                1609912800     6    6   \n",
       "\n",
       "                        weekday  month  year  hrl_load_mw   temp  \\\n",
       "iso_occurance_date_utc                                             \n",
       "2021-01-06 06:00:00           2      1  2021      1317.85  32.49   \n",
       "\n",
       "                        temp_feels_like  temp_min  temp_max  humidity  \\\n",
       "iso_occurance_date_utc                                                  \n",
       "2021-01-06 06:00:00               23.07     30.23       NaN        80   \n",
       "\n",
       "                        cloud_coverage  wind_speed  wind_direction  \\\n",
       "iso_occurance_date_utc                                               \n",
       "2021-01-06 06:00:00                0.9        9.17             320   \n",
       "\n",
       "                        atmospheric_pressure  \n",
       "iso_occurance_date_utc                        \n",
       "2021-01-06 06:00:00                     1018  "
      ]
     },
     "execution_count": 56,
     "metadata": {},
     "output_type": "execute_result"
    }
   ],
   "source": [
    "test_2021_df[test_2021_df['temp_max'].isnull()]"
   ]
  },
  {
   "cell_type": "markdown",
   "id": "7cf8b79c",
   "metadata": {},
   "source": [
    "#### temps '2021-03-20 00:00:00' thur '2021-03-30 00:00:00'"
   ]
  },
  {
   "cell_type": "code",
   "execution_count": 36,
   "id": "ba61b034",
   "metadata": {},
   "outputs": [
    {
     "data": {
      "text/plain": [
       "<AxesSubplot:xlabel='iso_occurance_date_utc'>"
      ]
     },
     "execution_count": 36,
     "metadata": {},
     "output_type": "execute_result"
    },
    {
     "data": {
      "image/png": "[encoded data removed]",
      "text/plain": [
       "<Figure size 432x288 with 1 Axes>"
      ]
     },
     "metadata": {
      "needs_background": "light"
     },
     "output_type": "display_data"
    }
   ],
   "source": [
    "import seaborn as sns\n",
    "test_2021_df[(test_2021_df.index >= '2021-03-20 00:00:00') & \\\n",
    "                         (test_2021_df.index <= '2021-03-30 00:00:00')]['temp'].plot()"
   ]
  },
  {
   "cell_type": "code",
   "execution_count": 38,
   "id": "45622f2a",
   "metadata": {},
   "outputs": [
    {
     "data": {
      "text/plain": [
       "<AxesSubplot:xlabel='iso_occurance_date_utc'>"
      ]
     },
     "execution_count": 38,
     "metadata": {},
     "output_type": "execute_result"
    },
    {
     "data": {
      "image/png": "[encoded data removed]",
      "text/plain": [
       "<Figure size 432x288 with 1 Axes>"
      ]
     },
     "metadata": {
      "needs_background": "light"
     },
     "output_type": "display_data"
    }
   ],
   "source": [
    "test_2021_df[(test_2021_df.index >= '2021-03-21 00:00:00') & \\\n",
    "                         (test_2021_df.index <= '2021-03-22 23:00:00')]['temp'].plot()"
   ]
  },
  {
   "cell_type": "code",
   "execution_count": 90,
   "id": "cc1d011d",
   "metadata": {
    "scrolled": true
   },
   "outputs": [
    {
     "data": {
      "text/plain": [
       "16"
      ]
     },
     "execution_count": 90,
     "metadata": {},
     "output_type": "execute_result"
    }
   ],
   "source": [
    "len(test_2021_df.columns)"
   ]
  },
  {
   "cell_type": "code",
   "execution_count": 91,
   "id": "6deb5f5f",
   "metadata": {
    "scrolled": true
   },
   "outputs": [
    {
     "data": {
      "text/plain": [
       "16"
      ]
     },
     "execution_count": 91,
     "metadata": {},
     "output_type": "execute_result"
    }
   ],
   "source": [
    "len(train_df.columns)"
   ]
  },
  {
   "cell_type": "markdown",
   "id": "c2680cc4",
   "metadata": {},
   "source": [
    "# Training Data"
   ]
  },
  {
   "cell_type": "code",
   "execution_count": 55,
   "id": "4f705f06",
   "metadata": {},
   "outputs": [],
   "source": [
    "train_df = pd.read_sql(\"SELECT load_area_id, \\\n",
    "                                    occurance_date_epoch_utc, \\\n",
    "                                    cast(substring(iso_occurance_date_utc, 1,19) as timestamp) iso_occurance_date_utc,\\\n",
    "                                    hrl_load_mw,\\\n",
    "                                    temp,\\\n",
    "                                    temp_feels_like,\\\n",
    "                                    temp_min,\\\n",
    "                                    temp_max,\\\n",
    "                                    humidity,\\\n",
    "                                    cloud_coverage,\\\n",
    "                                    wind_speed,\\\n",
    "                                    wind_direction,\\\n",
    "                                    atmospheric_pressure\\\n",
    "                                FROM lse_demand_planning_stg_catalog.energy_weather_lmp_fact \\\n",
    "                                WHERE occurance_date_epoch_utc < 1609459200;\", conn)"
   ]
  },
  {
   "cell_type": "code",
   "execution_count": 56,
   "id": "998e6e36",
   "metadata": {},
   "outputs": [
    {
     "data": {
      "text/plain": [
       "(43848, 13)"
      ]
     },
     "execution_count": 56,
     "metadata": {},
     "output_type": "execute_result"
    }
   ],
   "source": [
    "train_df.shape"
   ]
  },
  {
   "cell_type": "markdown",
   "id": "13db044c",
   "metadata": {},
   "source": [
    "# add additional date and time columns"
   ]
  },
  {
   "cell_type": "code",
   "execution_count": 57,
   "id": "3165dc51",
   "metadata": {},
   "outputs": [],
   "source": [
    "train_df['hour'] = train_df['iso_occurance_date_utc'].dt.hour\n",
    "\n",
    "train_df['day'] = train_df['iso_occurance_date_utc'].dt.day\n",
    "\n",
    "train_df['weekday'] = train_df['iso_occurance_date_utc'].dt.dayofweek\n",
    "\n",
    "train_df['month'] = train_df['iso_occurance_date_utc'].dt.month\n",
    "\n",
    "train_df['year'] = train_df['iso_occurance_date_utc'].dt.year"
   ]
  },
  {
   "cell_type": "markdown",
   "id": "5d71d3dd",
   "metadata": {},
   "source": [
    "# set index"
   ]
  },
  {
   "cell_type": "code",
   "execution_count": 58,
   "id": "8f91b5e0",
   "metadata": {},
   "outputs": [],
   "source": [
    "train_df = train_df.set_index('iso_occurance_date_utc')"
   ]
  },
  {
   "cell_type": "code",
   "execution_count": 59,
   "id": "19dce9fd",
   "metadata": {},
   "outputs": [],
   "source": [
    "train_df = train_df[[\"load_area_id\", \\\n",
    "                                    \"occurance_date_epoch_utc\", \\\n",
    "                                    \"hour\", \\\n",
    "                                    \"day\", \\\n",
    "                                    \"weekday\", \\\n",
    "                                    \"month\", \\\n",
    "                                    \"year\", \\\n",
    "                                    \"hrl_load_mw\",\\\n",
    "                                    \"temp\",\\\n",
    "                                    \"temp_feels_like\",\\\n",
    "                                    \"temp_min\",\\\n",
    "                                    \"temp_max\",\\\n",
    "                                    \"humidity\",\\\n",
    "                                    \"cloud_coverage\",\\\n",
    "                                    \"wind_speed\",\\\n",
    "                                    \"wind_direction\",\\\n",
    "                                    \"atmospheric_pressure\"]]"
   ]
  },
  {
   "cell_type": "code",
   "execution_count": 60,
   "id": "52b3c608",
   "metadata": {
    "scrolled": true
   },
   "outputs": [
    {
     "data": {
      "text/html": [
       "<div>\n",
       "<style scoped>\n",
       "    .dataframe tbody tr th:only-of-type {\n",
       "        vertical-align: middle;\n",
       "    }\n",
       "\n",
       "    .dataframe tbody tr th {\n",
       "        vertical-align: top;\n",
       "    }\n",
       "\n",
       "    .dataframe thead th {\n",
       "        text-align: right;\n",
       "    }\n",
       "</style>\n",
       "<table border=\"1\" class=\"dataframe\">\n",
       "  <thead>\n",
       "    <tr style=\"text-align: right;\">\n",
       "      <th></th>\n",
       "      <th>load_area_id</th>\n",
       "      <th>occurance_date_epoch_utc</th>\n",
       "      <th>hour</th>\n",
       "      <th>day</th>\n",
       "      <th>weekday</th>\n",
       "      <th>month</th>\n",
       "      <th>year</th>\n",
       "      <th>hrl_load_mw</th>\n",
       "      <th>temp</th>\n",
       "      <th>temp_feels_like</th>\n",
       "      <th>temp_min</th>\n",
       "      <th>temp_max</th>\n",
       "      <th>humidity</th>\n",
       "      <th>cloud_coverage</th>\n",
       "      <th>wind_speed</th>\n",
       "      <th>wind_direction</th>\n",
       "      <th>atmospheric_pressure</th>\n",
       "    </tr>\n",
       "    <tr>\n",
       "      <th>iso_occurance_date_utc</th>\n",
       "      <th></th>\n",
       "      <th></th>\n",
       "      <th></th>\n",
       "      <th></th>\n",
       "      <th></th>\n",
       "      <th></th>\n",
       "      <th></th>\n",
       "      <th></th>\n",
       "      <th></th>\n",
       "      <th></th>\n",
       "      <th></th>\n",
       "      <th></th>\n",
       "      <th></th>\n",
       "      <th></th>\n",
       "      <th></th>\n",
       "      <th></th>\n",
       "      <th></th>\n",
       "    </tr>\n",
       "  </thead>\n",
       "  <tbody>\n",
       "    <tr>\n",
       "      <th>2016-01-01 00:00:00</th>\n",
       "      <td>DUQ</td>\n",
       "      <td>1451606400</td>\n",
       "      <td>0</td>\n",
       "      <td>1</td>\n",
       "      <td>4</td>\n",
       "      <td>1</td>\n",
       "      <td>2016</td>\n",
       "      <td>1646.344</td>\n",
       "      <td>33.49</td>\n",
       "      <td>24.49</td>\n",
       "      <td>32.96</td>\n",
       "      <td>34.12</td>\n",
       "      <td>71</td>\n",
       "      <td>0.9</td>\n",
       "      <td>8.05</td>\n",
       "      <td>270</td>\n",
       "      <td>1024</td>\n",
       "    </tr>\n",
       "    <tr>\n",
       "      <th>2018-09-12 00:00:00</th>\n",
       "      <td>DUQ</td>\n",
       "      <td>1536710400</td>\n",
       "      <td>0</td>\n",
       "      <td>12</td>\n",
       "      <td>2</td>\n",
       "      <td>9</td>\n",
       "      <td>2018</td>\n",
       "      <td>1623.080</td>\n",
       "      <td>64.45</td>\n",
       "      <td>65.44</td>\n",
       "      <td>62.60</td>\n",
       "      <td>66.73</td>\n",
       "      <td>88</td>\n",
       "      <td>0.9</td>\n",
       "      <td>4.61</td>\n",
       "      <td>20</td>\n",
       "      <td>1022</td>\n",
       "    </tr>\n",
       "    <tr>\n",
       "      <th>2020-02-25 00:00:00</th>\n",
       "      <td>DUQ</td>\n",
       "      <td>1582588800</td>\n",
       "      <td>0</td>\n",
       "      <td>25</td>\n",
       "      <td>1</td>\n",
       "      <td>2</td>\n",
       "      <td>2020</td>\n",
       "      <td>1532.917</td>\n",
       "      <td>48.78</td>\n",
       "      <td>42.98</td>\n",
       "      <td>47.49</td>\n",
       "      <td>51.08</td>\n",
       "      <td>45</td>\n",
       "      <td>0.9</td>\n",
       "      <td>3.06</td>\n",
       "      <td>279</td>\n",
       "      <td>1012</td>\n",
       "    </tr>\n",
       "    <tr>\n",
       "      <th>2017-03-28 08:00:00</th>\n",
       "      <td>DUQ</td>\n",
       "      <td>1490688000</td>\n",
       "      <td>8</td>\n",
       "      <td>28</td>\n",
       "      <td>1</td>\n",
       "      <td>3</td>\n",
       "      <td>2017</td>\n",
       "      <td>1125.410</td>\n",
       "      <td>55.92</td>\n",
       "      <td>53.04</td>\n",
       "      <td>51.80</td>\n",
       "      <td>NaN</td>\n",
       "      <td>77</td>\n",
       "      <td>0.9</td>\n",
       "      <td>4.70</td>\n",
       "      <td>320</td>\n",
       "      <td>1011</td>\n",
       "    </tr>\n",
       "    <tr>\n",
       "      <th>2019-03-02 12:00:00</th>\n",
       "      <td>DUQ</td>\n",
       "      <td>1551528000</td>\n",
       "      <td>12</td>\n",
       "      <td>2</td>\n",
       "      <td>5</td>\n",
       "      <td>3</td>\n",
       "      <td>2019</td>\n",
       "      <td>1397.935</td>\n",
       "      <td>30.92</td>\n",
       "      <td>22.82</td>\n",
       "      <td>29.95</td>\n",
       "      <td>NaN</td>\n",
       "      <td>86</td>\n",
       "      <td>0.9</td>\n",
       "      <td>6.91</td>\n",
       "      <td>240</td>\n",
       "      <td>1016</td>\n",
       "    </tr>\n",
       "  </tbody>\n",
       "</table>\n",
       "</div>"
      ],
      "text/plain": [
       "                       load_area_id  occurance_date_epoch_utc  hour  day  \\\n",
       "iso_occurance_date_utc                                                     \n",
       "2016-01-01 00:00:00             DUQ                1451606400     0    1   \n",
       "2018-09-12 00:00:00             DUQ                1536710400     0   12   \n",
       "2020-02-25 00:00:00             DUQ                1582588800     0   25   \n",
       "2017-03-28 08:00:00             DUQ                1490688000     8   28   \n",
       "2019-03-02 12:00:00             DUQ                1551528000    12    2   \n",
       "\n",
       "                        weekday  month  year  hrl_load_mw   temp  \\\n",
       "iso_occurance_date_utc                                             \n",
       "2016-01-01 00:00:00           4      1  2016     1646.344  33.49   \n",
       "2018-09-12 00:00:00           2      9  2018     1623.080  64.45   \n",
       "2020-02-25 00:00:00           1      2  2020     1532.917  48.78   \n",
       "2017-03-28 08:00:00           1      3  2017     1125.410  55.92   \n",
       "2019-03-02 12:00:00           5      3  2019     1397.935  30.92   \n",
       "\n",
       "                        temp_feels_like  temp_min  temp_max  humidity  \\\n",
       "iso_occurance_date_utc                                                  \n",
       "2016-01-01 00:00:00               24.49     32.96     34.12        71   \n",
       "2018-09-12 00:00:00               65.44     62.60     66.73        88   \n",
       "2020-02-25 00:00:00               42.98     47.49     51.08        45   \n",
       "2017-03-28 08:00:00               53.04     51.80       NaN        77   \n",
       "2019-03-02 12:00:00               22.82     29.95       NaN        86   \n",
       "\n",
       "                        cloud_coverage  wind_speed  wind_direction  \\\n",
       "iso_occurance_date_utc                                               \n",
       "2016-01-01 00:00:00                0.9        8.05             270   \n",
       "2018-09-12 00:00:00                0.9        4.61              20   \n",
       "2020-02-25 00:00:00                0.9        3.06             279   \n",
       "2017-03-28 08:00:00                0.9        4.70             320   \n",
       "2019-03-02 12:00:00                0.9        6.91             240   \n",
       "\n",
       "                        atmospheric_pressure  \n",
       "iso_occurance_date_utc                        \n",
       "2016-01-01 00:00:00                     1024  \n",
       "2018-09-12 00:00:00                     1022  \n",
       "2020-02-25 00:00:00                     1012  \n",
       "2017-03-28 08:00:00                     1011  \n",
       "2019-03-02 12:00:00                     1016  "
      ]
     },
     "execution_count": 60,
     "metadata": {},
     "output_type": "execute_result"
    }
   ],
   "source": [
    "train_df.head()"
   ]
  },
  {
   "cell_type": "markdown",
   "id": "4b6656ea",
   "metadata": {},
   "source": [
    "# Check for nulls"
   ]
  },
  {
   "cell_type": "code",
   "execution_count": 84,
   "id": "39f29b44",
   "metadata": {
    "scrolled": false
   },
   "outputs": [
    {
     "data": {
      "text/plain": [
       "load_area_id                0\n",
       "occurance_date_epoch_utc    0\n",
       "hour                        0\n",
       "day                         0\n",
       "weekday                     0\n",
       "month                       0\n",
       "year                        0\n",
       "hrl_load_mw                 0\n",
       "temp                        0\n",
       "temp_feels_like             0\n",
       "temp_min                    0\n",
       "temp_max                    0\n",
       "humidity                    0\n",
       "cloud_coverage              0\n",
       "wind_speed                  0\n",
       "wind_direction              0\n",
       "atmospheric_pressure        0\n",
       "temp_scaled                 0\n",
       "temp_sqd                    0\n",
       "dtype: int64"
      ]
     },
     "execution_count": 84,
     "metadata": {},
     "output_type": "execute_result"
    }
   ],
   "source": [
    "train_df.isnull().sum()"
   ]
  },
  {
   "cell_type": "code",
   "execution_count": null,
   "id": "173fc528",
   "metadata": {},
   "outputs": [],
   "source": []
  },
  {
   "cell_type": "markdown",
   "id": "8f1a2235",
   "metadata": {},
   "source": [
    "### Interpolate linearly missing / unreported temperatue values"
   ]
  },
  {
   "cell_type": "code",
   "execution_count": 53,
   "id": "e3323088",
   "metadata": {},
   "outputs": [],
   "source": []
  },
  {
   "cell_type": "code",
   "execution_count": 54,
   "id": "5f05ec5c",
   "metadata": {},
   "outputs": [
    {
     "data": {
      "text/plain": [
       "load_area_id                    0\n",
       "occurance_date_epoch_utc        0\n",
       "hour                            0\n",
       "day                             0\n",
       "weekday                         0\n",
       "month                           0\n",
       "year                            0\n",
       "hrl_load_mw                    45\n",
       "temp                          480\n",
       "temp_feels_like               447\n",
       "temp_min                    10412\n",
       "temp_max                     7676\n",
       "humidity                        0\n",
       "cloud_coverage                 13\n",
       "wind_speed                     71\n",
       "wind_direction                  0\n",
       "atmospheric_pressure            0\n",
       "dtype: int64"
      ]
     },
     "execution_count": 54,
     "metadata": {},
     "output_type": "execute_result"
    }
   ],
   "source": [
    "train_df.isnull().sum()"
   ]
  },
  {
   "cell_type": "code",
   "execution_count": 61,
   "id": "73e7561d",
   "metadata": {
    "scrolled": true
   },
   "outputs": [
    {
     "data": {
      "text/plain": [
       "<bound method DataFrame.sort_index of                        load_area_id  occurance_date_epoch_utc  hour  day  \\\n",
       "iso_occurance_date_utc                                                     \n",
       "2016-09-09 23:00:00             DUQ                1473462000    23    9   \n",
       "2016-05-29 16:00:00             DUQ                1464537600    16   29   \n",
       "2019-11-01 13:00:00             DUQ                1572613200    13    1   \n",
       "2018-11-04 01:00:00             DUQ                1541293200     1    4   \n",
       "2019-08-12 20:00:00             DUQ                1565640000    20   12   \n",
       "2017-07-05 14:00:00             DUQ                1499263200    14    5   \n",
       "2016-11-04 11:00:00             DUQ                1478257200    11    4   \n",
       "2020-07-29 14:00:00             DUQ                1596031200    14   29   \n",
       "2018-07-14 22:00:00             DUQ                1531605600    22   14   \n",
       "2017-09-23 06:00:00             DUQ                1506146400     6   23   \n",
       "2017-10-05 03:00:00             DUQ                1507172400     3    5   \n",
       "2018-04-13 13:00:00             DUQ                1523624400    13   13   \n",
       "2018-10-05 16:00:00             DUQ                1538755200    16    5   \n",
       "2018-03-24 03:00:00             DUQ                1521860400     3   24   \n",
       "2017-12-08 17:00:00             DUQ                1512752400    17    8   \n",
       "2016-07-31 13:00:00             DUQ                1469970000    13   31   \n",
       "2016-11-11 01:00:00             DUQ                1478826000     1   11   \n",
       "2018-07-01 15:00:00             DUQ                1530457200    15    1   \n",
       "2016-05-06 06:00:00             DUQ                1462514400     6    6   \n",
       "2020-01-02 12:00:00             DUQ                1577966400    12    2   \n",
       "2019-04-25 01:00:00             DUQ                1556154000     1   25   \n",
       "2018-04-20 21:00:00             DUQ                1524258000    21   20   \n",
       "2016-09-19 19:00:00             DUQ                1474311600    19   19   \n",
       "2016-07-02 22:00:00             DUQ                1467496800    22    2   \n",
       "2016-02-14 10:00:00             DUQ                1455444000    10   14   \n",
       "2016-06-29 00:00:00             DUQ                1467158400     0   29   \n",
       "2018-07-24 20:00:00             DUQ                1532462400    20   24   \n",
       "2017-04-18 00:00:00             DUQ                1492473600     0   18   \n",
       "2020-07-23 11:00:00             DUQ                1595502000    11   23   \n",
       "2019-04-13 02:00:00             DUQ                1555120800     2   13   \n",
       "2019-12-19 16:00:00             DUQ                1576771200    16   19   \n",
       "2019-12-26 12:00:00             DUQ                1577361600    12   26   \n",
       "2018-12-06 11:00:00             DUQ                1544094000    11    6   \n",
       "2020-05-22 01:00:00             DUQ                1590109200     1   22   \n",
       "2020-10-25 18:00:00             DUQ                1603648800    18   25   \n",
       "2018-07-15 09:00:00             DUQ                1531645200     9   15   \n",
       "2019-05-02 20:00:00             DUQ                1556827200    20    2   \n",
       "2016-08-02 11:00:00             DUQ                1470135600    11    2   \n",
       "2018-02-03 00:00:00             DUQ                1517616000     0    3   \n",
       "2018-12-19 16:00:00             DUQ                1545235200    16   19   \n",
       "2019-07-26 04:00:00             DUQ                1564113600     4   26   \n",
       "2019-08-02 08:00:00             DUQ                1564732800     8    2   \n",
       "2016-09-27 16:00:00             DUQ                1474992000    16   27   \n",
       "2016-10-04 18:00:00             DUQ                1475604000    18    4   \n",
       "2016-05-23 10:00:00             DUQ                1463997600    10   23   \n",
       "\n",
       "                        weekday  month  year  hrl_load_mw   temp  \\\n",
       "iso_occurance_date_utc                                             \n",
       "2016-09-09 23:00:00           4      9  2016          NaN  75.22   \n",
       "2016-05-29 16:00:00           6      5  2016          NaN  79.63   \n",
       "2019-11-01 13:00:00           4     11  2019          NaN  35.26   \n",
       "2018-11-04 01:00:00           6     11  2018          NaN  38.10   \n",
       "2019-08-12 20:00:00           0      8  2019          NaN  84.07   \n",
       "2017-07-05 14:00:00           2      7  2017          NaN  75.76   \n",
       "2016-11-04 11:00:00           4     11  2016          NaN  43.48   \n",
       "2020-07-29 14:00:00           2      7  2020          NaN  78.24   \n",
       "2018-07-14 22:00:00           5      7  2018          NaN  88.16   \n",
       "2017-09-23 06:00:00           5      9  2017          NaN  61.59   \n",
       "2017-10-05 03:00:00           3     10  2017          NaN  70.52   \n",
       "2018-04-13 13:00:00           4      4  2018          NaN  66.63   \n",
       "2018-10-05 16:00:00           4     10  2018          NaN  59.34   \n",
       "2018-03-24 03:00:00           5      3  2018          NaN  30.69   \n",
       "2017-12-08 17:00:00           4     12  2017          NaN  26.40   \n",
       "2016-07-31 13:00:00           6      7  2016          NaN  68.68   \n",
       "2016-11-11 01:00:00           4     11  2016          NaN  49.84   \n",
       "2018-07-01 15:00:00           6      7  2018          NaN  83.32   \n",
       "2016-05-06 06:00:00           4      5  2016          NaN  49.24   \n",
       "2020-01-02 12:00:00           3      1  2020          NaN  32.74   \n",
       "2019-04-25 01:00:00           3      4  2019          NaN  57.54   \n",
       "2018-04-20 21:00:00           4      4  2018          NaN  52.18   \n",
       "2016-09-19 19:00:00           0      9  2016          NaN  79.34   \n",
       "2016-07-02 22:00:00           5      7  2016          NaN  70.27   \n",
       "2016-02-14 10:00:00           6      2  2016          NaN   0.16   \n",
       "2016-06-29 00:00:00           2      6  2016          NaN  72.28   \n",
       "2018-07-24 20:00:00           1      7  2018          NaN  82.40   \n",
       "2017-04-18 00:00:00           1      4  2017          NaN  60.58   \n",
       "2020-07-23 11:00:00           3      7  2020          NaN  70.20   \n",
       "2019-04-13 02:00:00           5      4  2019          NaN  61.86   \n",
       "2019-12-19 16:00:00           3     12  2019          NaN  18.93   \n",
       "2019-12-26 12:00:00           3     12  2019          NaN  34.14   \n",
       "2018-12-06 11:00:00           3     12  2018          NaN  26.85   \n",
       "2020-05-22 01:00:00           4      5  2020          NaN  63.90   \n",
       "2020-10-25 18:00:00           6     10  2020          NaN  51.66   \n",
       "2018-07-15 09:00:00           6      7  2018          NaN  73.62   \n",
       "2019-05-02 20:00:00           3      5  2019          NaN  76.95   \n",
       "2016-08-02 11:00:00           1      8  2016          NaN  65.23   \n",
       "2018-02-03 00:00:00           5      2  2018          NaN  13.73   \n",
       "2018-12-19 16:00:00           2     12  2018          NaN  34.65   \n",
       "2019-07-26 04:00:00           4      7  2019          NaN  63.48   \n",
       "2019-08-02 08:00:00           4      8  2019          NaN  65.75   \n",
       "2016-09-27 16:00:00           1      9  2016          NaN  66.25   \n",
       "2016-10-04 18:00:00           1     10  2016          NaN  70.75   \n",
       "2016-05-23 10:00:00           0      5  2016          NaN  49.23   \n",
       "\n",
       "                        temp_feels_like  temp_min  temp_max  humidity  \\\n",
       "iso_occurance_date_utc                                                  \n",
       "2016-09-09 23:00:00               83.07     73.40       NaN        87   \n",
       "2016-05-29 16:00:00               81.23     78.01     80.96        56   \n",
       "2019-11-01 13:00:00               25.11     33.80     37.04        69   \n",
       "2018-11-04 01:00:00               32.94     35.60     42.80        81   \n",
       "2019-08-12 20:00:00               81.55     80.60     87.01        39   \n",
       "2017-07-05 14:00:00               81.16     75.02     78.19        75   \n",
       "2016-11-04 11:00:00               40.08       NaN     45.59       100   \n",
       "2020-07-29 14:00:00               77.02     75.99       NaN        57   \n",
       "2018-07-14 22:00:00               89.44     87.08     89.60        46   \n",
       "2017-09-23 06:00:00               61.54     55.40     69.80        82   \n",
       "2017-10-05 03:00:00               69.13     67.71     71.96        60   \n",
       "2018-04-13 13:00:00               56.93     64.33       NaN        35   \n",
       "2018-10-05 16:00:00               58.51     57.20     62.60        94   \n",
       "2018-03-24 03:00:00               19.20     28.87       NaN        64   \n",
       "2017-12-08 17:00:00               14.40     24.08     28.50        58   \n",
       "2016-07-31 13:00:00               74.53     66.20     71.74        96   \n",
       "2016-11-11 01:00:00               39.83     48.20     51.98        50   \n",
       "2018-07-01 15:00:00               89.38     82.04     85.60        66   \n",
       "2016-05-06 06:00:00               39.47     48.20     50.50        74   \n",
       "2020-01-02 12:00:00               23.32     30.99     35.01        79   \n",
       "2019-04-25 01:00:00               51.67     53.01     60.80        41   \n",
       "2018-04-20 21:00:00               37.96       NaN     54.54        26   \n",
       "2016-09-19 19:00:00               81.12     77.64     80.60        54   \n",
       "2016-07-02 22:00:00               66.24     69.08     71.63        43   \n",
       "2016-02-14 10:00:00               -8.25     -5.80      5.60        82   \n",
       "2016-06-29 00:00:00               65.77       NaN     75.26        53   \n",
       "2018-07-24 20:00:00               82.35     80.06     85.73        58   \n",
       "2017-04-18 00:00:00               51.85       NaN     62.60        34   \n",
       "2020-07-23 11:00:00               73.27     69.01     71.60        94   \n",
       "2019-04-13 02:00:00               61.25       NaN       NaN        82   \n",
       "2019-12-19 16:00:00                7.21     17.01     21.20        61   \n",
       "2019-12-26 12:00:00               27.28       NaN     39.20        86   \n",
       "2018-12-06 11:00:00               17.11     26.06     29.85        68   \n",
       "2020-05-22 01:00:00               57.36     62.01       NaN        59   \n",
       "2020-10-25 18:00:00               44.65     48.98     53.78        53   \n",
       "2018-07-15 09:00:00               76.24     72.08     75.20        78   \n",
       "2019-05-02 20:00:00               77.16     73.99     80.01        50   \n",
       "2016-08-02 11:00:00               67.84     60.80     69.80        93   \n",
       "2018-02-03 00:00:00                3.51     12.02     15.80        52   \n",
       "2018-12-19 16:00:00               27.88     30.99     37.40        75   \n",
       "2019-07-26 04:00:00               64.31     60.01       NaN        82   \n",
       "2019-08-02 08:00:00               67.95       NaN     69.01        93   \n",
       "2016-09-27 16:00:00               59.50     64.40     69.01        43   \n",
       "2016-10-04 18:00:00               67.82     69.08     73.12        62   \n",
       "2016-05-23 10:00:00               45.68     46.40     51.80        89   \n",
       "\n",
       "                        cloud_coverage  wind_speed  wind_direction  \\\n",
       "iso_occurance_date_utc                                               \n",
       "2016-09-09 23:00:00               0.75        0.60              67   \n",
       "2016-05-29 16:00:00               0.90        4.70             260   \n",
       "2019-11-01 13:00:00               0.90       10.29             260   \n",
       "2018-11-04 01:00:00               0.20        3.04             278   \n",
       "2019-08-12 20:00:00               0.90        8.05             230   \n",
       "2017-07-05 14:00:00               0.01        1.61              59   \n",
       "2016-11-04 11:00:00               0.01        3.36             340   \n",
       "2020-07-29 14:00:00               0.20        9.17             250   \n",
       "2018-07-14 22:00:00               0.40        6.91             260   \n",
       "2017-09-23 06:00:00               0.40        3.44             300   \n",
       "2017-10-05 03:00:00               0.75        5.75             220   \n",
       "2018-04-13 13:00:00               0.75       12.66             220   \n",
       "2018-10-05 16:00:00               0.90        5.75             100   \n",
       "2018-03-24 03:00:00               0.20       11.50             350   \n",
       "2017-12-08 17:00:00               0.90       11.50             210   \n",
       "2016-07-31 13:00:00               0.75        1.01              97   \n",
       "2016-11-11 01:00:00               0.20       11.41             210   \n",
       "2018-07-01 15:00:00               0.40        3.44             150   \n",
       "2016-05-06 06:00:00               0.01       13.87             340   \n",
       "2020-01-02 12:00:00               0.20        9.17             180   \n",
       "2019-04-25 01:00:00               0.90        4.61             330   \n",
       "2018-04-20 21:00:00               0.01       16.11             340   \n",
       "2016-09-19 19:00:00               0.20        3.49              40   \n",
       "2016-07-02 22:00:00               0.75        5.82             340   \n",
       "2016-02-14 10:00:00               0.75        3.47             286   \n",
       "2016-06-29 00:00:00               0.40       13.87             340   \n",
       "2018-07-24 20:00:00               0.90       10.36             150   \n",
       "2017-04-18 00:00:00               0.40        9.17              10   \n",
       "2020-07-23 11:00:00               0.90        6.67             217   \n",
       "2019-04-13 02:00:00               0.90        4.61             190   \n",
       "2019-12-19 16:00:00               0.75       10.29             260   \n",
       "2019-12-26 12:00:00               0.75        5.44             173   \n",
       "2018-12-06 11:00:00               0.90        8.05             240   \n",
       "2020-05-22 01:00:00               0.90       11.41             130   \n",
       "2020-10-25 18:00:00               0.75        6.93              50   \n",
       "2018-07-15 09:00:00               0.90        5.75             250   \n",
       "2019-05-02 20:00:00               0.75        3.44               0   \n",
       "2016-08-02 11:00:00               0.75        3.36             180   \n",
       "2018-02-03 00:00:00               0.75        6.91             260   \n",
       "2018-12-19 16:00:00               0.90        4.61             160   \n",
       "2019-07-26 04:00:00               0.01         NaN             318   \n",
       "2019-08-02 08:00:00               0.40        4.50              14   \n",
       "2016-09-27 16:00:00               0.20        9.17             240   \n",
       "2016-10-04 18:00:00               0.20        9.17              90   \n",
       "2016-05-23 10:00:00               0.20        4.70             310   \n",
       "\n",
       "                        atmospheric_pressure  \n",
       "iso_occurance_date_utc                        \n",
       "2016-09-09 23:00:00                     1016  \n",
       "2016-05-29 16:00:00                     1020  \n",
       "2019-11-01 13:00:00                     1022  \n",
       "2018-11-04 01:00:00                     1026  \n",
       "2019-08-12 20:00:00                     1011  \n",
       "2017-07-05 14:00:00                     1021  \n",
       "2016-11-04 11:00:00                     1025  \n",
       "2020-07-29 14:00:00                     1013  \n",
       "2018-07-14 22:00:00                     1018  \n",
       "2017-09-23 06:00:00                     1019  \n",
       "2017-10-05 03:00:00                     1024  \n",
       "2018-04-13 13:00:00                     1013  \n",
       "2018-10-05 16:00:00                     1021  \n",
       "2018-03-24 03:00:00                     1025  \n",
       "2017-12-08 17:00:00                     1018  \n",
       "2016-07-31 13:00:00                     1017  \n",
       "2016-11-11 01:00:00                     1014  \n",
       "2018-07-01 15:00:00                     1019  \n",
       "2016-05-06 06:00:00                     1009  \n",
       "2020-01-02 12:00:00                     1010  \n",
       "2019-04-25 01:00:00                     1012  \n",
       "2018-04-20 21:00:00                     1029  \n",
       "2016-09-19 19:00:00                     1018  \n",
       "2016-07-02 22:00:00                     1020  \n",
       "2016-02-14 10:00:00                     1031  \n",
       "2016-06-29 00:00:00                     1015  \n",
       "2018-07-24 20:00:00                     1014  \n",
       "2017-04-18 00:00:00                     1021  \n",
       "2020-07-23 11:00:00                     1017  \n",
       "2019-04-13 02:00:00                     1015  \n",
       "2019-12-19 16:00:00                     1031  \n",
       "2019-12-26 12:00:00                     1019  \n",
       "2018-12-06 11:00:00                     1024  \n",
       "2020-05-22 01:00:00                     1019  \n",
       "2020-10-25 18:00:00                     1019  \n",
       "2018-07-15 09:00:00                     1017  \n",
       "2019-05-02 20:00:00                     1017  \n",
       "2016-08-02 11:00:00                     1019  \n",
       "2018-02-03 00:00:00                     1030  \n",
       "2018-12-19 16:00:00                     1013  \n",
       "2019-07-26 04:00:00                     1022  \n",
       "2019-08-02 08:00:00                     1017  \n",
       "2016-09-27 16:00:00                     1014  \n",
       "2016-10-04 18:00:00                     1022  \n",
       "2016-05-23 10:00:00                     1016  >"
      ]
     },
     "execution_count": 61,
     "metadata": {},
     "output_type": "execute_result"
    }
   ],
   "source": [
    "train_df[train_df['hrl_load_mw'].isnull()].sort_index"
   ]
  },
  {
   "cell_type": "code",
   "execution_count": 60,
   "id": "49ef7ec1",
   "metadata": {},
   "outputs": [
    {
     "data": {
      "text/plain": [
       "<AxesSubplot:xlabel='iso_occurance_date_utc'>"
      ]
     },
     "execution_count": 60,
     "metadata": {},
     "output_type": "execute_result"
    },
    {
     "data": {
      "image/png": "[encoded data removed]",
      "text/plain": [
       "<Figure size 432x288 with 1 Axes>"
      ]
     },
     "metadata": {
      "needs_background": "light"
     },
     "output_type": "display_data"
    }
   ],
   "source": [
    "train_df[(train_df.index >= '2019-12-19 00:00:00') & \\\n",
    "                         (train_df.index <= '2019-12-19 23:00:00')]['temp'].plot()"
   ]
  },
  {
   "cell_type": "code",
   "execution_count": 62,
   "id": "a19e3b77",
   "metadata": {},
   "outputs": [],
   "source": [
    "train_df = train_df.interpolate(method ='linear', limit_direction ='forward')"
   ]
  },
  {
   "cell_type": "code",
   "execution_count": 64,
   "id": "ab364a53",
   "metadata": {
    "scrolled": true
   },
   "outputs": [
    {
     "data": {
      "text/plain": [
       "<AxesSubplot:xlabel='iso_occurance_date_utc'>"
      ]
     },
     "execution_count": 64,
     "metadata": {},
     "output_type": "execute_result"
    },
    {
     "data": {
      "image/png": "[encoded data removed]",
      "text/plain": [
       "<Figure size 432x288 with 1 Axes>"
      ]
     },
     "metadata": {
      "needs_background": "light"
     },
     "output_type": "display_data"
    }
   ],
   "source": [
    "train_df[(train_df.index >= '2019-12-19 00:00:00') & \\\n",
    "                         (train_df.index <= '2019-12-26 23:00:00')]['hrl_load_mw'].plot()"
   ]
  },
  {
   "cell_type": "markdown",
   "id": "ef382905",
   "metadata": {},
   "source": [
    "#### Energy (MW) one week"
   ]
  },
  {
   "cell_type": "code",
   "execution_count": 63,
   "id": "cebc7599",
   "metadata": {},
   "outputs": [],
   "source": [
    "train_df.sort_index(inplace=True)"
   ]
  },
  {
   "cell_type": "code",
   "execution_count": 76,
   "id": "33f77883",
   "metadata": {},
   "outputs": [
    {
     "data": {
      "text/plain": [
       "<AxesSubplot:xlabel='iso_occurance_date_utc'>"
      ]
     },
     "execution_count": 76,
     "metadata": {},
     "output_type": "execute_result"
    },
    {
     "data": {
      "image/png": "[encoded data removed]",
      "text/plain": [
       "<Figure size 432x288 with 1 Axes>"
      ]
     },
     "metadata": {
      "needs_background": "light"
     },
     "output_type": "display_data"
    }
   ],
   "source": [
    "train_df[(train_df.index >= '2019-07-01 00:00:00') & \\\n",
    "                         (train_df.index <= '2019-07-08 23:00:00')]['hrl_load_mw'].plot()"
   ]
  },
  {
   "cell_type": "code",
   "execution_count": 86,
   "id": "bbaaf2c2",
   "metadata": {
    "scrolled": true
   },
   "outputs": [
    {
     "data": {
      "image/png": "[encoded data removed]",
      "text/plain": [
       "<Figure size 432x288 with 1 Axes>"
      ]
     },
     "metadata": {
      "needs_background": "light"
     },
     "output_type": "display_data"
    }
   ],
   "source": [
    "x_index_week = train_df[(train_df.index >= '2019-07-01 00:00:00') & (train_df.index < '2019-07-08 23:00:00')].index\n",
    "y_mw_week = train_df[(train_df.index >= '2019-07-01 00:00:00') & (train_df.index < '2019-07-08 23:00:00')]['hrl_load_mw']\n",
    "plt.plot(x_index_week, y_mw_week)\n",
    "plt.xlabel('Date')\n",
    "plt.ylabel('Load (MW)')\n",
    "plt.show()"
   ]
  },
  {
   "cell_type": "code",
   "execution_count": 89,
   "id": "0cc4efa0",
   "metadata": {
    "scrolled": false
   },
   "outputs": [
    {
     "data": {
      "image/png": "[encoded data removed]",
      "text/plain": [
       "<Figure size 432x288 with 1 Axes>"
      ]
     },
     "metadata": {
      "needs_background": "light"
     },
     "output_type": "display_data"
    }
   ],
   "source": [
    "x_index_week =  train_df[(train_df.index >= '2019-07-01 00:00:00') & (train_df.index < '2019-07-08 23:00:00')].index\n",
    "y_temp_week = train_df[(train_df.index >= '2019-07-01 00:00:00') & (train_df.index < '2019-07-08 23:00:00')]['temp']\n",
    "plt.plot(x_index_week, y_temp_week, color='red')\n",
    "plt.xlabel('Date')\n",
    "plt.ylabel('Temperature (degrees F)')\n",
    "plt.show()"
   ]
  },
  {
   "cell_type": "markdown",
   "id": "58877032",
   "metadata": {},
   "source": [
    "## Hourly Load MW"
   ]
  },
  {
   "cell_type": "code",
   "execution_count": 78,
   "id": "496317dd",
   "metadata": {
    "scrolled": true
   },
   "outputs": [
    {
     "data": {
      "image/png": "[encoded data removed]",
      "text/plain": [
       "<Figure size 432x288 with 1 Axes>"
      ]
     },
     "metadata": {
      "needs_background": "light"
     },
     "output_type": "display_data"
    }
   ],
   "source": [
    "x_index_full = train_df.index\n",
    "y_mw_full = train_df.hrl_load_mw\n",
    "plt.plot(x_index_full, y_mw_full)\n",
    "plt.xlabel('Date')\n",
    "plt.ylabel('Load (MW)')\n",
    "plt.show()"
   ]
  },
  {
   "cell_type": "markdown",
   "id": "f0e844eb",
   "metadata": {},
   "source": [
    "## Temperature"
   ]
  },
  {
   "cell_type": "code",
   "execution_count": 80,
   "id": "e76cb4db",
   "metadata": {
    "scrolled": true
   },
   "outputs": [
    {
     "data": {
      "image/png": "[encoded data removed]",
      "text/plain": [
       "<Figure size 432x288 with 1 Axes>"
      ]
     },
     "metadata": {
      "needs_background": "light"
     },
     "output_type": "display_data"
    }
   ],
   "source": [
    "x_index_full = train_df.index\n",
    "y_temp_full = train_df.temp\n",
    "plt.plot(x_index_full,y_temp_full, color='red')\n",
    "plt.xlabel('Date')\n",
    "plt.ylabel('Temperature (degrees F)')\n",
    "plt.show()"
   ]
  },
  {
   "cell_type": "markdown",
   "id": "9d7b4c6c",
   "metadata": {},
   "source": [
    "#### Energy & Temperature  - Full Train"
   ]
  },
  {
   "cell_type": "code",
   "execution_count": 81,
   "id": "6e2765d2",
   "metadata": {},
   "outputs": [
    {
     "data": {
      "image/png": "[encoded data removed]",
      "text/plain": [
       "<Figure size 432x288 with 2 Axes>"
      ]
     },
     "metadata": {
      "needs_background": "light"
     },
     "output_type": "display_data"
    }
   ],
   "source": [
    "fig, ax_left = plt.subplots()\n",
    "ax_right = ax_left.twinx()\n",
    "\n",
    "ax_left.plot(x_index_full, y_mw_full, color='blue', label='MW')\n",
    "ax_right.plot(x_index_full,y_temp_full, color='red', linestyle='--', label = 'Temperature')\n",
    "plt.xlabel('DateTime')\n",
    "ax_left.set_ylabel('Load MW')\n",
    "ax_right.set_ylabel('Temperature')\n",
    "ax_left.legend([\"MW\"], loc ='upper left')\n",
    "ax_right.legend([\"temp\"])\n",
    "\n",
    "plt.show()"
   ]
  },
  {
   "cell_type": "markdown",
   "id": "95d0a02c",
   "metadata": {},
   "source": [
    "#### Energy & Temperature  - one week"
   ]
  },
  {
   "cell_type": "code",
   "execution_count": 90,
   "id": "649a7df6",
   "metadata": {},
   "outputs": [
    {
     "data": {
      "image/png": "[encoded data removed]",
      "text/plain": [
       "<Figure size 432x288 with 2 Axes>"
      ]
     },
     "metadata": {
      "needs_background": "light"
     },
     "output_type": "display_data"
    }
   ],
   "source": [
    "fig, ax_left = plt.subplots()\n",
    "ax_right = ax_left.twinx()\n",
    "\n",
    "ax_left.plot(x_index_week, y_mw_week, color='blue', label='MW')\n",
    "ax_right.plot(x_index_week,y_temp_week, color='red', linestyle='--', label = 'Temperature')\n",
    "plt.xlabel('DateTime')\n",
    "ax_left.set_ylabel('Load MW')\n",
    "ax_right.set_ylabel('Temperature')\n",
    "ax_left.legend([\"MW\"], loc ='upper left')\n",
    "ax_right.legend([\"temp\"])\n",
    "\n",
    "plt.show()"
   ]
  },
  {
   "cell_type": "markdown",
   "id": "5b6b2edf",
   "metadata": {},
   "source": [
    "# Scatter Plot Temperature vs. Energy"
   ]
  },
  {
   "cell_type": "code",
   "execution_count": 92,
   "id": "6ff6bbf6",
   "metadata": {
    "scrolled": true
   },
   "outputs": [
    {
     "data": {
      "image/png": "[encoded data removed]",
      "text/plain": [
       "<Figure size 432x288 with 1 Axes>"
      ]
     },
     "metadata": {
      "needs_background": "light"
     },
     "output_type": "display_data"
    }
   ],
   "source": [
    "plt.scatter(train_df['temp'], train_df['hrl_load_mw'], alpha = 0.2)\n",
    "plt.xlabel('Temperature (Degrees F)')\n",
    "plt.ylabel('Load MW Hours')\n",
    "plt.show()"
   ]
  },
  {
   "cell_type": "markdown",
   "id": "e7f0b120",
   "metadata": {},
   "source": [
    "#### The relationship between temperature and energy usage appears quadratic in nature"
   ]
  },
  {
   "cell_type": "code",
   "execution_count": 93,
   "id": "220bf35d",
   "metadata": {},
   "outputs": [],
   "source": [
    "import statsmodels.api as sm\n",
    "from statsmodels.graphics import tsaplots"
   ]
  },
  {
   "cell_type": "markdown",
   "id": "bf4f8a11",
   "metadata": {},
   "source": [
    "## Standardize Temp"
   ]
  },
  {
   "cell_type": "code",
   "execution_count": 64,
   "id": "d8764814",
   "metadata": {},
   "outputs": [],
   "source": [
    "train_df['temp_scaled'] = (train_df['temp']-train_df['temp'].mean())/train_df['temp'].std()"
   ]
  },
  {
   "cell_type": "code",
   "execution_count": 80,
   "id": "9b0f7305",
   "metadata": {},
   "outputs": [],
   "source": [
    "test_2021_df['temp_scaled'] = (test_2021_df['temp']-test_2021_df['temp'].mean())/test_2021_df['temp'].std()"
   ]
  },
  {
   "cell_type": "markdown",
   "id": "d282bacf",
   "metadata": {},
   "source": [
    "## Quadradic relationship between energy and temp"
   ]
  },
  {
   "cell_type": "markdown",
   "id": "3142bd6a",
   "metadata": {},
   "source": [
    "#### Square scaled temp"
   ]
  },
  {
   "cell_type": "code",
   "execution_count": 66,
   "id": "52eb09b6",
   "metadata": {},
   "outputs": [],
   "source": [
    "train_df['temp_sqd'] = train_df['temp_scaled']**2"
   ]
  },
  {
   "cell_type": "code",
   "execution_count": 81,
   "id": "8a0fd9ef",
   "metadata": {},
   "outputs": [],
   "source": [
    "test_2021_df['temp_sqd'] = test_2021_df['temp_scaled']**2"
   ]
  },
  {
   "cell_type": "markdown",
   "id": "bc51d7f8",
   "metadata": {},
   "source": [
    "## Temperature energy relationship scatter Jan vs. July "
   ]
  },
  {
   "cell_type": "code",
   "execution_count": 99,
   "id": "c63efca0",
   "metadata": {},
   "outputs": [
    {
     "name": "stderr",
     "output_type": "stream",
     "text": [
      "/home/ec2-user/anaconda3/envs/python3/lib/python3.6/site-packages/ipykernel/__main__.py:6: MatplotlibDeprecationWarning: Adding an axes using the same arguments as a previous axes currently reuses the earlier instance.  In a future version, a new instance will always be created and returned.  Meanwhile, this warning can be suppressed, and the future behavior ensured, by passing a unique label to each axes instance.\n"
     ]
    },
    {
     "data": {
      "image/png": "[encoded data removed]",
      "text/plain": [
       "<Figure size 432x288 with 1 Axes>"
      ]
     },
     "metadata": {
      "needs_background": "light"
     },
     "output_type": "display_data"
    }
   ],
   "source": [
    "plt.subplot()\n",
    "plt.scatter(train_df['temp'].where(train_df['month'] == 1), train_df['hrl_load_mw'].where(train_df['month'] == 1), alpha = 0.2)\n",
    "plt.xlabel('Temperature (Degrees F)')\n",
    "plt.ylabel('Load MW Hours')\n",
    "\n",
    "plt.subplot()\n",
    "plt.scatter(train_df['temp'].where(train_df['month'] == 7), train_df['hrl_load_mw'].where(train_df['month'] == 7), alpha = 0.2)\n",
    "plt.xlabel('Temperature (Degrees F)')\n",
    "plt.ylabel('Load MW Hours')\n",
    "plt.show()"
   ]
  },
  {
   "cell_type": "code",
   "execution_count": 100,
   "id": "7d1e4abd",
   "metadata": {},
   "outputs": [
    {
     "name": "stderr",
     "output_type": "stream",
     "text": [
      "/home/ec2-user/anaconda3/envs/python3/lib/python3.6/site-packages/ipykernel/__main__.py:6: MatplotlibDeprecationWarning: Adding an axes using the same arguments as a previous axes currently reuses the earlier instance.  In a future version, a new instance will always be created and returned.  Meanwhile, this warning can be suppressed, and the future behavior ensured, by passing a unique label to each axes instance.\n"
     ]
    },
    {
     "data": {
      "image/png": "[encoded data removed]",
      "text/plain": [
       "<Figure size 432x288 with 1 Axes>"
      ]
     },
     "metadata": {
      "needs_background": "light"
     },
     "output_type": "display_data"
    }
   ],
   "source": [
    "plt.subplot()\n",
    "plt.scatter(train_df['temp'].where(train_df['hour'] == 0), train_df['hrl_load_mw'].where(train_df['hour'] == 0), alpha = 0.2)\n",
    "plt.xlabel('temperature (Degrees F)')\n",
    "plt.ylabel('hrl_load_mw Hours')\n",
    "\n",
    "plt.subplot()\n",
    "plt.scatter(train_df['temp'].where(train_df['hour'] == 12), train_df['hrl_load_mw'].where(train_df['hour'] == 12), alpha = 0.2)\n",
    "plt.xlabel('temperature (Degrees F)')\n",
    "plt.ylabel('hrl_load_mw Hours')\n",
    "\n",
    "plt.show()"
   ]
  },
  {
   "cell_type": "markdown",
   "id": "106ef9c8",
   "metadata": {},
   "source": [
    "## Model taking into account:\n",
    "#### Energy usage dependent on month / season\n",
    "#### Energy usage dependent on day of week\n",
    "#### Energy usage dependent on hour of day"
   ]
  },
  {
   "cell_type": "markdown",
   "id": "67a73c0f",
   "metadata": {},
   "source": [
    "#### Model 1 - w/ catagorical variables"
   ]
  },
  {
   "cell_type": "code",
   "execution_count": 104,
   "id": "9ed0216a",
   "metadata": {
    "scrolled": true
   },
   "outputs": [
    {
     "name": "stdout",
     "output_type": "stream",
     "text": [
      "                            OLS Regression Results                            \n",
      "==============================================================================\n",
      "Dep. Variable:            hrl_load_mw   R-squared:                       0.845\n",
      "Model:                            OLS   Adj. R-squared:                  0.845\n",
      "Method:                 Least Squares   F-statistic:                     5419.\n",
      "Date:                Fri, 04 Jun 2021   Prob (F-statistic):               0.00\n",
      "Time:                        20:00:12   Log-Likelihood:            -2.7136e+05\n",
      "No. Observations:               43848   AIC:                         5.428e+05\n",
      "Df Residuals:                   43803   BIC:                         5.432e+05\n",
      "Df Model:                          44                                         \n",
      "Covariance Type:            nonrobust                                         \n",
      "========================================================================================\n",
      "                           coef    std err          t      P>|t|      [0.025      0.975]\n",
      "----------------------------------------------------------------------------------------\n",
      "Intercept             1252.9828     94.278     13.290      0.000    1068.197    1437.769\n",
      "C(weekday)[T.1]         21.7889      2.108     10.337      0.000      17.657      25.920\n",
      "C(weekday)[T.2]         31.9427      2.109     15.147      0.000      27.809      36.076\n",
      "C(weekday)[T.3]         30.0428      2.110     14.238      0.000      25.907      34.179\n",
      "C(weekday)[T.4]         16.0726      2.110      7.618      0.000      11.937      20.208\n",
      "C(weekday)[T.5]        -77.3118      2.109    -36.650      0.000     -81.446     -73.177\n",
      "C(weekday)[T.6]       -109.2984      2.108    -51.855      0.000    -113.430    -105.167\n",
      "C(hour)[T.1]           -22.9997      3.906     -5.889      0.000     -30.655     -15.344\n",
      "C(hour)[T.2]           -92.7955      3.914    -23.712      0.000    -100.466     -85.125\n",
      "C(hour)[T.3]          -179.4927      3.923    -45.749      0.000    -187.183    -171.803\n",
      "C(hour)[T.4]          -258.7393      3.932    -65.802      0.000    -266.446    -251.032\n",
      "C(hour)[T.5]          -314.1743      3.941    -79.714      0.000    -321.899    -306.449\n",
      "C(hour)[T.6]          -344.8675      3.951    -87.292      0.000    -352.611    -337.124\n",
      "C(hour)[T.7]          -362.6941      3.958    -91.626      0.000    -370.453    -354.936\n",
      "C(hour)[T.8]          -358.3439      3.967    -90.322      0.000    -366.120    -350.568\n",
      "C(hour)[T.9]          -322.6974      3.975    -81.184      0.000    -330.488    -314.906\n",
      "C(hour)[T.10]         -257.1309      3.982    -64.575      0.000    -264.936    -249.326\n",
      "C(hour)[T.11]         -183.1628      3.985    -45.963      0.000    -190.973    -175.352\n",
      "C(hour)[T.12]         -126.3665      3.976    -31.784      0.000    -134.159    -118.574\n",
      "C(hour)[T.13]          -84.7467      3.953    -21.438      0.000     -92.495     -76.999\n",
      "C(hour)[T.14]          -52.3013      3.928    -13.315      0.000     -60.000     -44.602\n",
      "C(hour)[T.15]          -32.5846      3.911     -8.332      0.000     -40.250     -24.919\n",
      "C(hour)[T.16]          -20.3397      3.905     -5.209      0.000     -27.994     -12.686\n",
      "C(hour)[T.17]          -16.4843      3.908     -4.218      0.000     -24.143      -8.825\n",
      "C(hour)[T.18]          -18.5555      3.914     -4.741      0.000     -26.227     -10.884\n",
      "C(hour)[T.19]          -24.2357      3.920     -6.183      0.000     -31.918     -16.553\n",
      "C(hour)[T.20]          -25.2270      3.923     -6.430      0.000     -32.916     -17.538\n",
      "C(hour)[T.21]          -14.2679      3.921     -3.639      0.000     -21.952      -6.583\n",
      "C(hour)[T.22]           -2.1131      3.914     -0.540      0.589      -9.784       5.558\n",
      "C(hour)[T.23]            3.4000      3.906      0.871      0.384      -4.255      11.055\n",
      "C(month)[T.2]            3.9756      2.839      1.400      0.161      -1.589       9.540\n",
      "C(month)[T.3]          -44.8174      2.865    -15.642      0.000     -50.433     -39.202\n",
      "C(month)[T.4]         -137.8286      3.075    -44.819      0.000    -143.856    -131.801\n",
      "C(month)[T.5]         -159.6752      3.281    -48.661      0.000    -166.107    -153.244\n",
      "C(month)[T.6]          -45.8135      3.542    -12.934      0.000     -52.756     -38.871\n",
      "C(month)[T.7]           80.5740      3.769     21.379      0.000      73.187      87.961\n",
      "C(month)[T.8]           44.7460      3.674     12.181      0.000      37.546      51.946\n",
      "C(month)[T.9]          -68.5133      3.527    -19.427      0.000     -75.426     -61.601\n",
      "C(month)[T.10]        -130.5398      3.169    -41.191      0.000    -136.751    -124.328\n",
      "C(month)[T.11]         -49.7177      2.916    -17.050      0.000     -55.433     -44.002\n",
      "C(month)[T.12]          10.2522      2.758      3.717      0.000       4.846      15.659\n",
      "temp_scaled            120.3660      1.176    102.348      0.000     118.061     122.671\n",
      "temp_sqd               154.4420      0.615    250.990      0.000     153.236     155.648\n",
      "humidity                 1.2477      0.037     33.296      0.000       1.174       1.321\n",
      "atmospheric_pressure     0.2348      0.092      2.543      0.011       0.054       0.416\n",
      "==============================================================================\n",
      "Omnibus:                     2836.809   Durbin-Watson:                   0.181\n",
      "Prob(Omnibus):                  0.000   Jarque-Bera (JB):            13465.266\n",
      "Skew:                          -0.072   Prob(JB):                         0.00\n",
      "Kurtosis:                       5.711   Cond. No.                     1.71e+05\n",
      "==============================================================================\n",
      "\n",
      "Notes:\n",
      "[1] Standard Errors assume that the covariance matrix of the errors is correctly specified.\n",
      "[2] The condition number is large, 1.71e+05. This might indicate that there are\n",
      "strong multicollinearity or other numerical problems.\n"
     ]
    }
   ],
   "source": [
    "mod_one = sm.OLS.from_formula('hrl_load_mw ~ temp_scaled + temp_sqd + C(weekday) + C(hour) + C(month)+ humidity + atmospheric_pressure', data=train_df).fit()\n",
    "print(mod_one.summary())"
   ]
  },
  {
   "cell_type": "markdown",
   "id": "c15f2006",
   "metadata": {},
   "source": [
    "## Temperature energy relationship scatter noon vs. midnight"
   ]
  },
  {
   "cell_type": "markdown",
   "id": "873c2f3c",
   "metadata": {},
   "source": [
    "## Include interactions Temp~hour/month & hour~month"
   ]
  },
  {
   "cell_type": "code",
   "execution_count": 109,
   "id": "b4d4f3d5",
   "metadata": {
    "scrolled": true
   },
   "outputs": [
    {
     "name": "stdout",
     "output_type": "stream",
     "text": [
      "                            OLS Regression Results                            \n",
      "==============================================================================\n",
      "Dep. Variable:            hrl_load_mw   R-squared:                       0.917\n",
      "Model:                            OLS   Adj. R-squared:                  0.917\n",
      "Method:                 Least Squares   F-statistic:                     1929.\n",
      "Date:                Fri, 04 Jun 2021   Prob (F-statistic):               0.00\n",
      "Time:                        20:02:44   Log-Likelihood:            -2.5761e+05\n",
      "No. Observations:               43848   AIC:                         5.157e+05\n",
      "Df Residuals:                   43597   BIC:                         5.179e+05\n",
      "Df Model:                         250                                         \n",
      "Covariance Type:            nonrobust                                         \n",
      "=================================================================================================\n",
      "                                    coef    std err          t      P>|t|      [0.025      0.975]\n",
      "-------------------------------------------------------------------------------------------------\n",
      "Intercept                       712.4188     70.027     10.173      0.000     575.165     849.673\n",
      "C(hour)[T.1]                    -23.0983      8.067     -2.863      0.004     -38.909      -7.287\n",
      "C(hour)[T.2]                    -79.3730      8.047     -9.864      0.000     -95.144     -63.602\n",
      "C(hour)[T.3]                   -147.4208      8.029    -18.362      0.000    -163.157    -131.685\n",
      "C(hour)[T.4]                   -208.7215      8.017    -26.034      0.000    -224.435    -193.008\n",
      "C(hour)[T.5]                   -246.7889      8.006    -30.825      0.000    -262.481    -231.097\n",
      "C(hour)[T.6]                   -270.0688      7.997    -33.769      0.000    -285.744    -254.394\n",
      "C(hour)[T.7]                   -275.9061      7.991    -34.527      0.000    -291.568    -260.244\n",
      "C(hour)[T.8]                   -264.6274      7.992    -33.111      0.000    -280.292    -248.962\n",
      "C(hour)[T.9]                   -210.8586      7.985    -26.407      0.000    -226.509    -195.208\n",
      "C(hour)[T.10]                  -129.6774      7.989    -16.232      0.000    -145.336    -114.019\n",
      "C(hour)[T.11]                   -44.9479      7.991     -5.625      0.000     -60.611     -29.285\n",
      "C(hour)[T.12]                     8.4762      8.006      1.059      0.290      -7.215      24.168\n",
      "C(hour)[T.13]                    38.3016      8.031      4.769      0.000      22.560      54.043\n",
      "C(hour)[T.14]                    65.5972      8.055      8.144      0.000      49.810      81.385\n",
      "C(hour)[T.15]                    77.8900      8.086      9.633      0.000      62.042      93.738\n",
      "C(hour)[T.16]                    83.5361      8.109     10.302      0.000      67.643      99.429\n",
      "C(hour)[T.17]                    85.2940      8.112     10.514      0.000      69.393     101.195\n",
      "C(hour)[T.18]                    81.3734      8.120     10.021      0.000      65.458      97.289\n",
      "C(hour)[T.19]                    76.8193      8.114      9.468      0.000      60.917      92.722\n",
      "C(hour)[T.20]                    63.8716      8.119      7.867      0.000      47.958      79.785\n",
      "C(hour)[T.21]                    79.2403      8.111      9.769      0.000      63.342      95.139\n",
      "C(hour)[T.22]                    95.4772      8.112     11.770      0.000      79.578     111.376\n",
      "C(hour)[T.23]                    94.6413      8.106     11.676      0.000      78.754     110.529\n",
      "C(month)[T.2]                    -7.4990      4.165     -1.800      0.072     -15.663       0.665\n",
      "C(month)[T.3]                   -66.7756      3.940    -16.946      0.000     -74.499     -59.052\n",
      "C(month)[T.4]                  -125.3690      3.900    -32.144      0.000    -133.014    -117.724\n",
      "C(month)[T.5]                  -159.1214      3.906    -40.733      0.000    -166.778    -151.465\n",
      "C(month)[T.6]                  -127.0732      4.888    -25.997      0.000    -136.654    -117.493\n",
      "C(month)[T.7]                    22.3505      8.010      2.790      0.005       6.650      38.051\n",
      "C(month)[T.8]                   -28.0409      6.244     -4.491      0.000     -40.279     -15.803\n",
      "C(month)[T.9]                  -125.1034      4.433    -28.218      0.000    -133.793    -116.414\n",
      "C(month)[T.10]                 -131.3411      3.880    -33.851      0.000    -138.946    -123.736\n",
      "C(month)[T.11]                  -69.3578      4.007    -17.309      0.000     -77.211     -61.504\n",
      "C(month)[T.12]                   -8.0068      5.014     -1.597      0.110     -17.834       1.820\n",
      "C(weekday)[T.1]                  90.1260      7.565     11.913      0.000      75.298     104.954\n",
      "C(weekday)[T.2]                  97.1976      7.567     12.845      0.000      82.367     112.028\n",
      "C(weekday)[T.3]                 108.2366      7.569     14.300      0.000      93.401     123.072\n",
      "C(weekday)[T.4]                 104.1698      7.567     13.767      0.000      89.339     119.001\n",
      "C(weekday)[T.5]                  43.6935      7.569      5.772      0.000      28.857      58.530\n",
      "C(weekday)[T.6]                 -25.7198      7.566     -3.399      0.001     -40.550     -10.890\n",
      "C(weekday)[T.1]:C(hour)[T.1]    -16.1330     10.698     -1.508      0.132     -37.102       4.835\n",
      "C(weekday)[T.2]:C(hour)[T.1]    -16.5708     10.700     -1.549      0.121     -37.543       4.401\n",
      "C(weekday)[T.3]:C(hour)[T.1]    -22.4180     10.704     -2.094      0.036     -43.397      -1.439\n",
      "C(weekday)[T.4]:C(hour)[T.1]    -20.8037     10.699     -1.945      0.052     -41.773       0.166\n",
      "C(weekday)[T.5]:C(hour)[T.1]    -15.3330     10.703     -1.433      0.152     -36.310       5.644\n",
      "C(weekday)[T.6]:C(hour)[T.1]      3.4724     10.699      0.325      0.746     -17.497      24.442\n",
      "C(weekday)[T.1]:C(hour)[T.2]    -35.9632     10.699     -3.361      0.001     -56.933     -14.993\n",
      "C(weekday)[T.2]:C(hour)[T.2]    -34.7006     10.700     -3.243      0.001     -55.674     -13.728\n",
      "C(weekday)[T.3]:C(hour)[T.2]    -46.1474     10.706     -4.310      0.000     -67.131     -25.163\n",
      "C(weekday)[T.4]:C(hour)[T.2]    -44.2167     10.700     -4.132      0.000     -65.189     -23.244\n",
      "C(weekday)[T.5]:C(hour)[T.2]    -17.1837     10.703     -1.605      0.108     -38.162       3.795\n",
      "C(weekday)[T.6]:C(hour)[T.2]      8.4384     10.699      0.789      0.430     -12.532      29.409\n",
      "C(weekday)[T.1]:C(hour)[T.3]    -56.7260     10.698     -5.302      0.000     -77.695     -35.757\n",
      "C(weekday)[T.2]:C(hour)[T.3]    -48.0048     10.699     -4.487      0.000     -68.976     -27.034\n",
      "C(weekday)[T.3]:C(hour)[T.3]    -59.7209     10.704     -5.579      0.000     -80.701     -38.740\n",
      "C(weekday)[T.4]:C(hour)[T.3]    -61.6776     10.700     -5.764      0.000     -82.650     -40.705\n",
      "C(weekday)[T.5]:C(hour)[T.3]    -21.5815     10.704     -2.016      0.044     -42.561      -0.602\n",
      "C(weekday)[T.6]:C(hour)[T.3]     18.7773     10.699      1.755      0.079      -2.192      39.747\n",
      "C(weekday)[T.1]:C(hour)[T.4]    -71.1738     10.698     -6.653      0.000     -92.142     -50.205\n",
      "C(weekday)[T.2]:C(hour)[T.4]    -59.0245     10.700     -5.517      0.000     -79.996     -38.053\n",
      "C(weekday)[T.3]:C(hour)[T.4]    -66.9930     10.703     -6.259      0.000     -87.972     -46.014\n",
      "C(weekday)[T.4]:C(hour)[T.4]    -67.2372     10.700     -6.284      0.000     -88.209     -46.265\n",
      "C(weekday)[T.5]:C(hour)[T.4]    -25.1659     10.703     -2.351      0.019     -46.143      -4.188\n",
      "C(weekday)[T.6]:C(hour)[T.4]     23.1281     10.699      2.162      0.031       2.158      44.098\n",
      "C(weekday)[T.1]:C(hour)[T.5]    -81.3018     10.699     -7.599      0.000    -102.272     -60.331\n",
      "C(weekday)[T.2]:C(hour)[T.5]    -65.0084     10.700     -6.075      0.000     -85.981     -44.036\n",
      "C(weekday)[T.3]:C(hour)[T.5]    -71.2921     10.704     -6.660      0.000     -92.272     -50.312\n",
      "C(weekday)[T.4]:C(hour)[T.5]    -76.8700     10.701     -7.183      0.000     -97.845     -55.895\n",
      "C(weekday)[T.5]:C(hour)[T.5]    -30.3733     10.702     -2.838      0.005     -51.350      -9.397\n",
      "C(weekday)[T.6]:C(hour)[T.5]     14.9958     10.699      1.402      0.161      -5.974      35.966\n",
      "C(weekday)[T.1]:C(hour)[T.6]    -81.4427     10.698     -7.613      0.000    -102.411     -60.474\n",
      "C(weekday)[T.2]:C(hour)[T.6]    -67.5144     10.699     -6.310      0.000     -88.485     -46.543\n",
      "C(weekday)[T.3]:C(hour)[T.6]    -75.1305     10.704     -7.019      0.000     -96.110     -54.151\n",
      "C(weekday)[T.4]:C(hour)[T.6]    -80.0433     10.701     -7.480      0.000    -101.018     -59.069\n",
      "C(weekday)[T.5]:C(hour)[T.6]    -37.3660     10.702     -3.491      0.000     -58.343     -16.389\n",
      "C(weekday)[T.6]:C(hour)[T.6]     10.4228     10.699      0.974      0.330     -10.547      31.392\n",
      "C(weekday)[T.1]:C(hour)[T.7]    -87.6833     10.699     -8.196      0.000    -108.653     -66.713\n",
      "C(weekday)[T.2]:C(hour)[T.7]    -71.6023     10.700     -6.692      0.000     -92.574     -50.630\n",
      "C(weekday)[T.3]:C(hour)[T.7]    -82.9136     10.705     -7.745      0.000    -103.896     -61.932\n",
      "C(weekday)[T.4]:C(hour)[T.7]    -85.1580     10.703     -7.957      0.000    -106.135     -64.181\n",
      "C(weekday)[T.5]:C(hour)[T.7]    -52.8429     10.703     -4.937      0.000     -73.822     -31.864\n",
      "C(weekday)[T.6]:C(hour)[T.7]     -3.2913     10.699     -0.308      0.758     -24.262      17.679\n",
      "C(weekday)[T.1]:C(hour)[T.8]    -85.0250     10.699     -7.947      0.000    -105.995     -64.055\n",
      "C(weekday)[T.2]:C(hour)[T.8]    -70.7559     10.700     -6.613      0.000     -91.727     -49.785\n",
      "C(weekday)[T.3]:C(hour)[T.8]    -82.6280     10.705     -7.719      0.000    -103.610     -61.646\n",
      "C(weekday)[T.4]:C(hour)[T.8]    -85.4391     10.702     -7.983      0.000    -106.416     -64.462\n",
      "C(weekday)[T.5]:C(hour)[T.8]    -63.7194     10.702     -5.954      0.000     -84.695     -42.743\n",
      "C(weekday)[T.6]:C(hour)[T.8]    -19.2070     10.699     -1.795      0.073     -40.177       1.763\n",
      "C(weekday)[T.1]:C(hour)[T.9]    -85.6330     10.698     -8.004      0.000    -106.602     -64.664\n",
      "C(weekday)[T.2]:C(hour)[T.9]    -69.7470     10.699     -6.519      0.000     -90.718     -48.776\n",
      "C(weekday)[T.3]:C(hour)[T.9]    -84.5306     10.705     -7.897      0.000    -105.512     -63.550\n",
      "C(weekday)[T.4]:C(hour)[T.9]    -90.2140     10.702     -8.430      0.000    -111.190     -69.238\n",
      "C(weekday)[T.5]:C(hour)[T.9]    -99.9802     10.703     -9.341      0.000    -120.958     -79.002\n",
      "C(weekday)[T.6]:C(hour)[T.9]    -63.6885     10.699     -5.953      0.000     -84.659     -42.718\n",
      "C(weekday)[T.1]:C(hour)[T.10]   -81.6565     10.699     -7.632      0.000    -102.626     -60.686\n",
      "C(weekday)[T.2]:C(hour)[T.10]   -65.2760     10.699     -6.101      0.000     -86.247     -44.305\n",
      "C(weekday)[T.3]:C(hour)[T.10]   -77.2730     10.704     -7.219      0.000     -98.252     -56.294\n",
      "C(weekday)[T.4]:C(hour)[T.10]   -84.3962     10.702     -7.886      0.000    -105.372     -63.420\n",
      "C(weekday)[T.5]:C(hour)[T.10]  -154.8662     10.702    -14.470      0.000    -175.843    -133.889\n",
      "C(weekday)[T.6]:C(hour)[T.10]  -126.7394     10.699    -11.846      0.000    -147.710    -105.769\n",
      "C(weekday)[T.1]:C(hour)[T.11]   -74.8512     10.699     -6.996      0.000     -95.821     -53.881\n",
      "C(weekday)[T.2]:C(hour)[T.11]   -61.7728     10.699     -5.774      0.000     -82.743     -40.802\n",
      "C(weekday)[T.3]:C(hour)[T.11]   -79.6306     10.704     -7.439      0.000    -100.611     -58.650\n",
      "C(weekday)[T.4]:C(hour)[T.11]   -81.1503     10.701     -7.583      0.000    -102.124     -60.176\n",
      "C(weekday)[T.5]:C(hour)[T.11]  -203.0939     10.703    -18.976      0.000    -224.071    -182.117\n",
      "C(weekday)[T.6]:C(hour)[T.11]  -186.0292     10.700    -17.387      0.000    -207.000    -165.058\n",
      "C(weekday)[T.1]:C(hour)[T.12]   -74.6813     10.699     -6.980      0.000     -95.651     -53.712\n",
      "C(weekday)[T.2]:C(hour)[T.12]   -60.8762     10.699     -5.690      0.000     -81.847     -39.905\n",
      "C(weekday)[T.3]:C(hour)[T.12]   -74.6967     10.703     -6.979      0.000     -95.675     -53.718\n",
      "C(weekday)[T.4]:C(hour)[T.12]   -79.6216     10.700     -7.441      0.000    -100.594     -58.649\n",
      "C(weekday)[T.5]:C(hour)[T.12]  -207.6743     10.702    -19.405      0.000    -228.651    -186.698\n",
      "C(weekday)[T.6]:C(hour)[T.12]  -198.2684     10.699    -18.531      0.000    -219.239    -177.298\n",
      "C(weekday)[T.1]:C(hour)[T.13]   -71.2658     10.699     -6.661      0.000     -92.236     -50.296\n",
      "C(weekday)[T.2]:C(hour)[T.13]   -63.5674     10.700     -5.941      0.000     -84.539     -42.596\n",
      "C(weekday)[T.3]:C(hour)[T.13]   -77.8064     10.704     -7.269      0.000     -98.786     -56.827\n",
      "C(weekday)[T.4]:C(hour)[T.13]   -73.7002     10.699     -6.888      0.000     -94.671     -52.729\n",
      "C(weekday)[T.5]:C(hour)[T.13]  -189.7424     10.702    -17.730      0.000    -210.718    -168.767\n",
      "C(weekday)[T.6]:C(hour)[T.13]  -184.4259     10.699    -17.238      0.000    -205.396    -163.455\n",
      "C(weekday)[T.1]:C(hour)[T.14]   -78.7430     10.699     -7.360      0.000     -99.713     -57.773\n",
      "C(weekday)[T.2]:C(hour)[T.14]   -75.9737     10.701     -7.100      0.000     -96.948     -54.999\n",
      "C(weekday)[T.3]:C(hour)[T.14]   -83.9486     10.703     -7.844      0.000    -104.926     -62.971\n",
      "C(weekday)[T.4]:C(hour)[T.14]   -82.5042     10.700     -7.711      0.000    -103.476     -61.532\n",
      "C(weekday)[T.5]:C(hour)[T.14]  -182.8557     10.701    -17.088      0.000    -203.830    -161.881\n",
      "C(weekday)[T.6]:C(hour)[T.14]  -177.4892     10.699    -16.589      0.000    -198.460    -156.518\n",
      "C(weekday)[T.1]:C(hour)[T.15]   -77.5241     10.698     -7.246      0.000     -98.493     -56.555\n",
      "C(weekday)[T.2]:C(hour)[T.15]   -75.2445     10.701     -7.031      0.000     -96.219     -54.270\n",
      "C(weekday)[T.3]:C(hour)[T.15]   -84.6696     10.702     -7.912      0.000    -105.645     -63.694\n",
      "C(weekday)[T.4]:C(hour)[T.15]   -86.9988     10.699     -8.131      0.000    -107.970     -66.028\n",
      "C(weekday)[T.5]:C(hour)[T.15]  -180.0216     10.701    -16.823      0.000    -200.996    -159.047\n",
      "C(weekday)[T.6]:C(hour)[T.15]  -166.5453     10.699    -15.567      0.000    -187.515    -145.576\n",
      "C(weekday)[T.1]:C(hour)[T.16]   -77.5559     10.699     -7.249      0.000     -98.526     -56.586\n",
      "C(weekday)[T.2]:C(hour)[T.16]   -71.2510     10.700     -6.659      0.000     -92.224     -50.278\n",
      "C(weekday)[T.3]:C(hour)[T.16]   -87.5384     10.703     -8.179      0.000    -108.516     -66.560\n",
      "C(weekday)[T.4]:C(hour)[T.16]   -88.7065     10.700     -8.290      0.000    -109.678     -67.735\n",
      "C(weekday)[T.5]:C(hour)[T.16]  -176.5135     10.701    -16.495      0.000    -197.488    -155.539\n",
      "C(weekday)[T.6]:C(hour)[T.16]  -152.0892     10.699    -14.215      0.000    -173.059    -131.119\n",
      "C(weekday)[T.1]:C(hour)[T.17]   -76.3556     10.699     -7.137      0.000     -97.326     -55.385\n",
      "C(weekday)[T.2]:C(hour)[T.17]   -71.1155     10.701     -6.646      0.000     -92.089     -50.142\n",
      "C(weekday)[T.3]:C(hour)[T.17]   -81.3049     10.701     -7.598      0.000    -102.280     -60.330\n",
      "C(weekday)[T.4]:C(hour)[T.17]   -95.8865     10.700     -8.961      0.000    -116.859     -74.914\n",
      "C(weekday)[T.5]:C(hour)[T.17]  -185.0714     10.702    -17.292      0.000    -206.048    -164.094\n",
      "C(weekday)[T.6]:C(hour)[T.17]  -150.2226     10.699    -14.041      0.000    -171.192    -129.253\n",
      "C(weekday)[T.1]:C(hour)[T.18]   -79.7617     10.700     -7.455      0.000    -100.733     -58.790\n",
      "C(weekday)[T.2]:C(hour)[T.18]   -75.5991     10.701     -7.064      0.000     -96.574     -54.624\n",
      "C(weekday)[T.3]:C(hour)[T.18]   -81.9899     10.702     -7.661      0.000    -102.966     -61.014\n",
      "C(weekday)[T.4]:C(hour)[T.18]  -103.4826     10.701     -9.670      0.000    -124.457     -82.508\n",
      "C(weekday)[T.5]:C(hour)[T.18]  -186.8966     10.701    -17.465      0.000    -207.871    -165.922\n",
      "C(weekday)[T.6]:C(hour)[T.18]  -141.0040     10.699    -13.180      0.000    -161.973    -120.035\n",
      "C(weekday)[T.1]:C(hour)[T.19]   -80.3784     10.701     -7.511      0.000    -101.353     -59.404\n",
      "C(weekday)[T.2]:C(hour)[T.19]   -86.8618     10.704     -8.115      0.000    -107.841     -65.882\n",
      "C(weekday)[T.3]:C(hour)[T.19]   -83.3502     10.702     -7.788      0.000    -104.327     -62.374\n",
      "C(weekday)[T.4]:C(hour)[T.19]  -111.6131     10.702    -10.429      0.000    -132.589     -90.637\n",
      "C(weekday)[T.5]:C(hour)[T.19]  -191.1634     10.702    -17.862      0.000    -212.140    -170.187\n",
      "C(weekday)[T.6]:C(hour)[T.19]  -135.0649     10.699    -12.624      0.000    -156.035    -114.095\n",
      "C(weekday)[T.1]:C(hour)[T.20]   -76.4454     10.701     -7.144      0.000     -97.420     -55.471\n",
      "C(weekday)[T.2]:C(hour)[T.20]   -80.5459     10.703     -7.526      0.000    -101.523     -59.568\n",
      "C(weekday)[T.3]:C(hour)[T.20]   -87.2054     10.703     -8.148      0.000    -108.183     -66.228\n",
      "C(weekday)[T.4]:C(hour)[T.20]  -113.3716     10.702    -10.594      0.000    -134.347     -92.396\n",
      "C(weekday)[T.5]:C(hour)[T.20]  -183.2121     10.702    -17.119      0.000    -204.189    -162.235\n",
      "C(weekday)[T.6]:C(hour)[T.20]  -119.7048     10.699    -11.188      0.000    -140.676     -98.734\n",
      "C(weekday)[T.1]:C(hour)[T.21]   -77.3208     10.704     -7.224      0.000     -98.300     -56.341\n",
      "C(weekday)[T.2]:C(hour)[T.21]   -79.0770     10.703     -7.388      0.000    -100.055     -58.099\n",
      "C(weekday)[T.3]:C(hour)[T.21]   -96.6541     10.704     -9.030      0.000    -117.634     -75.675\n",
      "C(weekday)[T.4]:C(hour)[T.21]  -128.8725     10.704    -12.040      0.000    -149.852    -107.893\n",
      "C(weekday)[T.5]:C(hour)[T.21]  -177.9733     10.703    -16.628      0.000    -198.952    -156.995\n",
      "C(weekday)[T.6]:C(hour)[T.21]  -101.4611     10.701     -9.482      0.000    -122.434     -80.488\n",
      "C(weekday)[T.1]:C(hour)[T.22]   -78.3294     10.701     -7.319      0.000     -99.305     -57.354\n",
      "C(weekday)[T.2]:C(hour)[T.22]   -83.9161     10.702     -7.841      0.000    -104.893     -62.939\n",
      "C(weekday)[T.3]:C(hour)[T.22]   -95.1978     10.702     -8.895      0.000    -116.174     -74.222\n",
      "C(weekday)[T.4]:C(hour)[T.22]  -140.1168     10.702    -13.093      0.000    -161.092    -119.141\n",
      "C(weekday)[T.5]:C(hour)[T.22]  -174.8535     10.702    -16.338      0.000    -195.830    -153.877\n",
      "C(weekday)[T.6]:C(hour)[T.22]   -92.4527     10.700     -8.641      0.000    -113.424     -71.481\n",
      "C(weekday)[T.1]:C(hour)[T.23]   -75.3553     10.700     -7.042      0.000     -96.328     -54.382\n",
      "C(weekday)[T.2]:C(hour)[T.23]   -79.4945     10.701     -7.428      0.000    -100.469     -58.520\n",
      "C(weekday)[T.3]:C(hour)[T.23]   -93.0561     10.702     -8.695      0.000    -114.032     -72.080\n",
      "C(weekday)[T.4]:C(hour)[T.23]  -141.1637     10.701    -13.192      0.000    -162.138    -120.189\n",
      "C(weekday)[T.5]:C(hour)[T.23]  -165.4319     10.701    -15.460      0.000    -186.406    -144.458\n",
      "C(weekday)[T.6]:C(hour)[T.23]   -72.9091     10.699     -6.815      0.000     -93.879     -51.939\n",
      "temp_scaled                    -101.0244      5.736    -17.611      0.000    -112.268     -89.781\n",
      "temp_scaled:C(hour)[T.1]         36.5621      2.971     12.307      0.000      30.739      42.385\n",
      "temp_scaled:C(hour)[T.2]         45.6016      3.109     14.666      0.000      39.507      51.696\n",
      "temp_scaled:C(hour)[T.3]         48.1261      3.271     14.714      0.000      41.715      54.537\n",
      "temp_scaled:C(hour)[T.4]         44.0035      3.377     13.030      0.000      37.384      50.623\n",
      "temp_scaled:C(hour)[T.5]         43.5128      3.490     12.468      0.000      36.672      50.353\n",
      "temp_scaled:C(hour)[T.6]         41.6501      3.614     11.523      0.000      34.566      48.734\n",
      "temp_scaled:C(hour)[T.7]         38.7689      3.703     10.470      0.000      31.511      46.027\n",
      "temp_scaled:C(hour)[T.8]         44.5500      3.792     11.750      0.000      37.118      51.982\n",
      "temp_scaled:C(hour)[T.9]         52.9000      3.843     13.767      0.000      45.369      60.431\n",
      "temp_scaled:C(hour)[T.10]        57.5625      3.916     14.698      0.000      49.886      65.239\n",
      "temp_scaled:C(hour)[T.11]        53.7557      3.896     13.797      0.000      46.119      61.392\n",
      "temp_scaled:C(hour)[T.12]        52.9191      3.606     14.674      0.000      45.851      59.987\n",
      "temp_scaled:C(hour)[T.13]        50.7143      3.296     15.388      0.000      44.254      57.174\n",
      "temp_scaled:C(hour)[T.14]        30.7332      3.004     10.230      0.000      24.845      36.621\n",
      "temp_scaled:C(hour)[T.15]        11.3487      2.851      3.980      0.000       5.761      16.937\n",
      "temp_scaled:C(hour)[T.16]         3.4068      2.817      1.209      0.227      -2.115       8.929\n",
      "temp_scaled:C(hour)[T.17]        -4.1864      2.828     -1.480      0.139      -9.730       1.357\n",
      "temp_scaled:C(hour)[T.18]        -6.6610      2.866     -2.324      0.020     -12.278      -1.044\n",
      "temp_scaled:C(hour)[T.19]        -3.9362      2.883     -1.365      0.172      -9.586       1.714\n",
      "temp_scaled:C(hour)[T.20]        -2.5192      2.889     -0.872      0.383      -8.182       3.143\n",
      "temp_scaled:C(hour)[T.21]        -6.9626      2.886     -2.412      0.016     -12.620      -1.305\n",
      "temp_scaled:C(hour)[T.22]       -24.7755      2.846     -8.706      0.000     -30.354     -19.197\n",
      "temp_scaled:C(hour)[T.23]       -23.1971      2.830     -8.198      0.000     -28.743     -17.651\n",
      "temp_scaled:C(month)[T.2]        23.9058      6.809      3.511      0.000      10.560      37.251\n",
      "temp_scaled:C(month)[T.3]        29.9803      6.380      4.699      0.000      17.475      42.485\n",
      "temp_scaled:C(month)[T.4]        79.0109      5.825     13.565      0.000      67.594      90.428\n",
      "temp_scaled:C(month)[T.5]       140.3379      6.490     21.623      0.000     127.617     153.059\n",
      "temp_scaled:C(month)[T.6]       183.9097      8.834     20.818      0.000     166.595     201.225\n",
      "temp_scaled:C(month)[T.7]        39.9245     14.048      2.842      0.004      12.389      67.460\n",
      "temp_scaled:C(month)[T.8]        42.9148     11.323      3.790      0.000      20.722      65.108\n",
      "temp_scaled:C(month)[T.9]       151.6647      8.319     18.231      0.000     135.359     167.970\n",
      "temp_scaled:C(month)[T.10]      120.7817      5.975     20.215      0.000     109.071     132.492\n",
      "temp_scaled:C(month)[T.11]       43.8805      6.608      6.640      0.000      30.928      56.833\n",
      "temp_scaled:C(month)[T.12]       26.9577      8.389      3.213      0.001      10.515      43.401\n",
      "temp_sqd                         43.2996      2.903     14.915      0.000      37.609      48.990\n",
      "temp_sqd:C(hour)[T.1]            21.2129      2.990      7.094      0.000      15.352      27.074\n",
      "temp_sqd:C(hour)[T.2]            28.8939      3.072      9.406      0.000      22.873      34.915\n",
      "temp_sqd:C(hour)[T.3]            25.5775      3.132      8.168      0.000      19.440      31.715\n",
      "temp_sqd:C(hour)[T.4]            14.5112      3.145      4.614      0.000       8.346      20.676\n",
      "temp_sqd:C(hour)[T.5]             5.0423      3.150      1.601      0.109      -1.132      11.217\n",
      "temp_sqd:C(hour)[T.6]             1.5859      3.171      0.500      0.617      -4.630       7.802\n",
      "temp_sqd:C(hour)[T.7]            -2.4301      3.185     -0.763      0.445      -8.672       3.812\n",
      "temp_sqd:C(hour)[T.8]            -3.7211      3.186     -1.168      0.243      -9.965       2.523\n",
      "temp_sqd:C(hour)[T.9]            -5.9833      3.172     -1.886      0.059     -12.201       0.235\n",
      "temp_sqd:C(hour)[T.10]           -6.1741      3.182     -1.940      0.052     -12.411       0.063\n",
      "temp_sqd:C(hour)[T.11]           -4.0184      3.164     -1.270      0.204     -10.220       2.183\n",
      "temp_sqd:C(hour)[T.12]           -3.2080      3.052     -1.051      0.293      -9.191       2.775\n",
      "temp_sqd:C(hour)[T.13]           -4.1844      2.951     -1.418      0.156      -9.968       1.599\n",
      "temp_sqd:C(hour)[T.14]          -10.3838      2.879     -3.607      0.000     -16.026      -4.742\n",
      "temp_sqd:C(hour)[T.15]          -14.8754      2.848     -5.223      0.000     -20.457      -9.293\n",
      "temp_sqd:C(hour)[T.16]          -16.5361      2.838     -5.828      0.000     -22.098     -10.974\n",
      "temp_sqd:C(hour)[T.17]          -16.9304      2.822     -5.999      0.000     -22.462     -11.399\n",
      "temp_sqd:C(hour)[T.18]          -15.7251      2.834     -5.549      0.000     -21.279     -10.171\n",
      "temp_sqd:C(hour)[T.19]          -15.1203      2.830     -5.342      0.000     -20.668      -9.573\n",
      "temp_sqd:C(hour)[T.20]          -10.1598      2.817     -3.607      0.000     -15.681      -4.638\n",
      "temp_sqd:C(hour)[T.21]          -10.5094      2.821     -3.725      0.000     -16.039      -4.980\n",
      "temp_sqd:C(hour)[T.22]           -6.9144      2.810     -2.461      0.014     -12.422      -1.407\n",
      "temp_sqd:C(hour)[T.23]           -3.3175      2.827     -1.173      0.241      -8.859       2.224\n",
      "temp_sqd:C(month)[T.2]           13.2723      3.042      4.363      0.000       7.310      19.235\n",
      "temp_sqd:C(month)[T.3]           35.9788      3.242     11.099      0.000      29.625      42.333\n",
      "temp_sqd:C(month)[T.4]          101.3107      3.556     28.490      0.000      94.341     108.280\n",
      "temp_sqd:C(month)[T.5]          196.0653      3.925     49.953      0.000     188.372     203.758\n",
      "temp_sqd:C(month)[T.6]          232.5922      4.731     49.165      0.000     223.320     241.865\n",
      "temp_sqd:C(month)[T.7]          291.6365      6.303     46.272      0.000     279.283     303.990\n",
      "temp_sqd:C(month)[T.8]          321.7830      5.550     57.980      0.000     310.905     332.661\n",
      "temp_sqd:C(month)[T.9]          250.3296      4.672     53.579      0.000     241.172     259.487\n",
      "temp_sqd:C(month)[T.10]         190.2372      3.963     48.007      0.000     182.470     198.004\n",
      "temp_sqd:C(month)[T.11]          31.1211      3.892      7.996      0.000      23.492      38.750\n",
      "temp_sqd:C(month)[T.12]           7.8730      3.539      2.225      0.026       0.936      14.809\n",
      "humidity                          1.1957      0.028     42.777      0.000       1.141       1.251\n",
      "atmospheric_pressure              0.6736      0.068      9.850      0.000       0.540       0.808\n",
      "==============================================================================\n",
      "Omnibus:                     7799.693   Durbin-Watson:                   0.367\n",
      "Prob(Omnibus):                  0.000   Jarque-Bera (JB):           172569.588\n",
      "Skew:                           0.208   Prob(JB):                         0.00\n",
      "Kurtosis:                      12.710   Cond. No.                     1.87e+05\n",
      "==============================================================================\n",
      "\n",
      "Notes:\n",
      "[1] Standard Errors assume that the covariance matrix of the errors is correctly specified.\n",
      "[2] The condition number is large, 1.87e+05. This might indicate that there are\n",
      "strong multicollinearity or other numerical problems.\n"
     ]
    }
   ],
   "source": [
    "mod_two = sm.OLS.from_formula('hrl_load_mw ~ temp_scaled*C(hour) + temp_sqd*C(hour) + temp_scaled*C(month) + temp_sqd*C(month) + C(weekday)*C(hour)+humidity+atmospheric_pressure', data=train_df).fit()\n",
    "print(mod_two.summary())"
   ]
  },
  {
   "cell_type": "markdown",
   "id": "383d3ba8",
   "metadata": {},
   "source": [
    "## In sample Predictions"
   ]
  },
  {
   "cell_type": "code",
   "execution_count": 112,
   "id": "712fdcb0",
   "metadata": {
    "scrolled": false
   },
   "outputs": [
    {
     "name": "stdout",
     "output_type": "stream",
     "text": [
      "In sample MAPE:  3.999624684088472\n"
     ]
    }
   ],
   "source": [
    "train_df['fitted_values'] = mod_two.predict()\n",
    "\n",
    "train_df['APE'] = abs((train_df['hrl_load_mw']-train_df['fitted_values'])/train_df['hrl_load_mw'])*100\n",
    "print(\"In sample MAPE: \", train_df['APE'].mean())"
   ]
  },
  {
   "cell_type": "markdown",
   "id": "4ce8631a",
   "metadata": {},
   "source": [
    "## Out of Sample Predictions"
   ]
  },
  {
   "cell_type": "code",
   "execution_count": 114,
   "id": "ccd239bd",
   "metadata": {},
   "outputs": [
    {
     "name": "stdout",
     "output_type": "stream",
     "text": [
      "Out of sample MAPE:  9.316234037789151\n"
     ]
    }
   ],
   "source": [
    "test_2021_df['predicted_values'] = mod_two.predict(test_2021_df)\n",
    "\n",
    "test_2021_df['APE'] = abs((test_2021_df['hrl_load_mw']-test_2021_df['predicted_values'])/test_2021_df['hrl_load_mw'])*100\n",
    "print(\"Out of sample MAPE: \", test_2021_df['APE'].mean())"
   ]
  },
  {
   "cell_type": "markdown",
   "id": "8c5c828d",
   "metadata": {},
   "source": [
    "## Out of sample predictions vs Actuals Truth"
   ]
  },
  {
   "cell_type": "code",
   "execution_count": 117,
   "id": "38c49c00",
   "metadata": {
    "scrolled": false
   },
   "outputs": [
    {
     "data": {
      "image/png": "[encoded data removed]",
      "text/plain": [
       "<Figure size 648x504 with 1 Axes>"
      ]
     },
     "metadata": {
      "needs_background": "light"
     },
     "output_type": "display_data"
    }
   ],
   "source": [
    "test_2021_df['hrl_load_mw'].plot(color = 'green', figsize=(9,7))\n",
    "\n",
    "plt.ylabel('Load MW Hours')\n",
    "plt.xlabel('Date')\n",
    "\n",
    "test_2021_df['predicted_values'].plot(color = 'blue', linestyle = 'dashed', figsize=(9,7))\n",
    "\n",
    "plt.legend(loc=\"best\");\n",
    "\n",
    "plt.show()"
   ]
  },
  {
   "cell_type": "markdown",
   "id": "969d39e8",
   "metadata": {},
   "source": [
    "## Prepare data for AWS AutoML (AutoPilot)"
   ]
  },
  {
   "cell_type": "markdown",
   "id": "23932b1f",
   "metadata": {},
   "source": [
    "## Train"
   ]
  },
  {
   "cell_type": "code",
   "execution_count": 67,
   "id": "df765983",
   "metadata": {},
   "outputs": [
    {
     "data": {
      "text/plain": [
       "19"
      ]
     },
     "execution_count": 67,
     "metadata": {},
     "output_type": "execute_result"
    }
   ],
   "source": [
    "len(train_df.columns)"
   ]
  },
  {
   "cell_type": "code",
   "execution_count": 44,
   "id": "7d3ffb6f",
   "metadata": {
    "scrolled": true
   },
   "outputs": [
    {
     "data": {
      "text/plain": [
       "Index(['load_area_id', 'occurance_date_epoch_utc', 'hour', 'day', 'weekday',\n",
       "       'month', 'year', 'hrl_load_mw', 'temp', 'temp_feels_like', 'temp_min',\n",
       "       'temp_max', 'humidity', 'cloud_coverage', 'wind_speed',\n",
       "       'wind_direction', 'atmospheric_pressure'],\n",
       "      dtype='object')"
      ]
     },
     "execution_count": 44,
     "metadata": {},
     "output_type": "execute_result"
    }
   ],
   "source": [
    "train_df.columns"
   ]
  },
  {
   "cell_type": "markdown",
   "id": "0a565568",
   "metadata": {},
   "source": [
    "## Add dummies"
   ]
  },
  {
   "cell_type": "code",
   "execution_count": 45,
   "id": "4688d7fe",
   "metadata": {},
   "outputs": [],
   "source": [
    "train_df= pd.get_dummies(train_df, columns=['hour'], prefix=\"dmy\", prefix_sep=\"_hr\")"
   ]
  },
  {
   "cell_type": "code",
   "execution_count": 46,
   "id": "83ffe29a",
   "metadata": {},
   "outputs": [],
   "source": [
    "train_df= pd.get_dummies(train_df, columns=['weekday'], prefix=\"dmy\", prefix_sep=\"_wkd\")"
   ]
  },
  {
   "cell_type": "code",
   "execution_count": 47,
   "id": "3abb1239",
   "metadata": {},
   "outputs": [],
   "source": [
    "train_df= pd.get_dummies(train_df, columns=['month'], prefix=\"dmy\", prefix_sep=\"_mnth\")"
   ]
  },
  {
   "cell_type": "code",
   "execution_count": 48,
   "id": "73ad3877",
   "metadata": {},
   "outputs": [
    {
     "data": {
      "text/plain": [
       "Index(['load_area_id', 'occurance_date_epoch_utc', 'day', 'year',\n",
       "       'hrl_load_mw', 'temp', 'temp_feels_like', 'temp_min', 'temp_max',\n",
       "       'humidity', 'cloud_coverage', 'wind_speed', 'wind_direction',\n",
       "       'atmospheric_pressure', 'dmy_hr0', 'dmy_hr1', 'dmy_hr2', 'dmy_hr3',\n",
       "       'dmy_hr4', 'dmy_hr5', 'dmy_hr6', 'dmy_hr7', 'dmy_hr8', 'dmy_hr9',\n",
       "       'dmy_hr10', 'dmy_hr11', 'dmy_hr12', 'dmy_hr13', 'dmy_hr14', 'dmy_hr15',\n",
       "       'dmy_hr16', 'dmy_hr17', 'dmy_hr18', 'dmy_hr19', 'dmy_hr20', 'dmy_hr21',\n",
       "       'dmy_hr22', 'dmy_hr23', 'dmy_wkd0', 'dmy_wkd1', 'dmy_wkd2', 'dmy_wkd3',\n",
       "       'dmy_wkd4', 'dmy_wkd5', 'dmy_wkd6', 'dmy_mnth1', 'dmy_mnth2',\n",
       "       'dmy_mnth3', 'dmy_mnth4', 'dmy_mnth5', 'dmy_mnth6', 'dmy_mnth7',\n",
       "       'dmy_mnth8', 'dmy_mnth9', 'dmy_mnth10', 'dmy_mnth11', 'dmy_mnth12'],\n",
       "      dtype='object')"
      ]
     },
     "execution_count": 48,
     "metadata": {},
     "output_type": "execute_result"
    }
   ],
   "source": [
    "train_df.columns"
   ]
  },
  {
   "cell_type": "code",
   "execution_count": 89,
   "id": "479320d7",
   "metadata": {},
   "outputs": [],
   "source": [
    "del train_df['temp_feels_like']\n",
    "del train_df['temp_min']\n",
    "del train_df['temp_max']\n",
    "# del train_df['fitted_values']\n",
    "# del train_df['APE']"
   ]
  },
  {
   "cell_type": "code",
   "execution_count": 50,
   "id": "1a25f118",
   "metadata": {},
   "outputs": [],
   "source": [
    "a = train_df.columns[train_df.columns.str.startswith('temp_')]\n",
    "b = train_df.columns[train_df.columns.str.startswith('dmy_mnth')]\n",
    "c = train_df.columns[train_df.columns.str.startswith('dmy_hr')]\n",
    "d = train_df.columns[train_df.columns.str.startswith('dmy_wkd')]\n",
    "\n",
    "for col1 in a:\n",
    "    for col2 in b:\n",
    "         train_df[col2 + '_' + col1.split('_')[1]] = train_df[col1].mul(train_df[col2])\n",
    "\n",
    "for col1 in a:\n",
    "    for col2 in c:\n",
    "         train_df[col2 + '_' + col1.split('_')[1]] = train_df[col1].mul(train_df[col2])\n",
    "\n",
    "for col1 in d:\n",
    "    for col2 in c:\n",
    "        train_df[col2 + '_' + col1.split('_')[1]] = train_df[col1].mul(train_df[col2])\n",
    "\n"
   ]
  },
  {
   "cell_type": "code",
   "execution_count": 51,
   "id": "07b6942f",
   "metadata": {},
   "outputs": [
    {
     "data": {
      "text/plain": [
       "Index(['load_area_id', 'occurance_date_epoch_utc', 'day', 'year',\n",
       "       'hrl_load_mw', 'temp', 'humidity', 'cloud_coverage', 'wind_speed',\n",
       "       'wind_direction',\n",
       "       ...\n",
       "       'dmy_hr14_wkd6', 'dmy_hr15_wkd6', 'dmy_hr16_wkd6', 'dmy_hr17_wkd6',\n",
       "       'dmy_hr18_wkd6', 'dmy_hr19_wkd6', 'dmy_hr20_wkd6', 'dmy_hr21_wkd6',\n",
       "       'dmy_hr22_wkd6', 'dmy_hr23_wkd6'],\n",
       "      dtype='object', length=222)"
      ]
     },
     "execution_count": 51,
     "metadata": {},
     "output_type": "execute_result"
    }
   ],
   "source": [
    "train_df.columns"
   ]
  },
  {
   "cell_type": "code",
   "execution_count": 140,
   "id": "92d0823a",
   "metadata": {
    "scrolled": true
   },
   "outputs": [],
   "source": [
    "# train_df[[\"dmy_hr14\", \"dmy_wkd6\", 'dmy_hr14_wkd6']].where(train_df['dmy_hr14'] == 1 & train_df['dmy_wkd6']==1)\n",
    "\n",
    "temp = train_df[(train_df['dmy_hr14'] == 1) & (train_df['dmy_wkd6'] == 1)] \n"
   ]
  },
  {
   "cell_type": "code",
   "execution_count": 142,
   "id": "2b0611df",
   "metadata": {
    "scrolled": true
   },
   "outputs": [
    {
     "data": {
      "text/html": [
       "<div>\n",
       "<style scoped>\n",
       "    .dataframe tbody tr th:only-of-type {\n",
       "        vertical-align: middle;\n",
       "    }\n",
       "\n",
       "    .dataframe tbody tr th {\n",
       "        vertical-align: top;\n",
       "    }\n",
       "\n",
       "    .dataframe thead th {\n",
       "        text-align: right;\n",
       "    }\n",
       "</style>\n",
       "<table border=\"1\" class=\"dataframe\">\n",
       "  <thead>\n",
       "    <tr style=\"text-align: right;\">\n",
       "      <th></th>\n",
       "      <th>dmy_hr14</th>\n",
       "      <th>dmy_wkd6</th>\n",
       "      <th>dmy_hr14_wkd6</th>\n",
       "    </tr>\n",
       "    <tr>\n",
       "      <th>iso_occurance_date_utc</th>\n",
       "      <th></th>\n",
       "      <th></th>\n",
       "      <th></th>\n",
       "    </tr>\n",
       "  </thead>\n",
       "  <tbody>\n",
       "    <tr>\n",
       "      <th>2016-01-03 14:00:00</th>\n",
       "      <td>1</td>\n",
       "      <td>1</td>\n",
       "      <td>1</td>\n",
       "    </tr>\n",
       "    <tr>\n",
       "      <th>2016-01-10 14:00:00</th>\n",
       "      <td>1</td>\n",
       "      <td>1</td>\n",
       "      <td>1</td>\n",
       "    </tr>\n",
       "    <tr>\n",
       "      <th>2016-01-17 14:00:00</th>\n",
       "      <td>1</td>\n",
       "      <td>1</td>\n",
       "      <td>1</td>\n",
       "    </tr>\n",
       "    <tr>\n",
       "      <th>2016-01-24 14:00:00</th>\n",
       "      <td>1</td>\n",
       "      <td>1</td>\n",
       "      <td>1</td>\n",
       "    </tr>\n",
       "    <tr>\n",
       "      <th>2016-01-31 14:00:00</th>\n",
       "      <td>1</td>\n",
       "      <td>1</td>\n",
       "      <td>1</td>\n",
       "    </tr>\n",
       "  </tbody>\n",
       "</table>\n",
       "</div>"
      ],
      "text/plain": [
       "                        dmy_hr14  dmy_wkd6  dmy_hr14_wkd6\n",
       "iso_occurance_date_utc                                   \n",
       "2016-01-03 14:00:00            1         1              1\n",
       "2016-01-10 14:00:00            1         1              1\n",
       "2016-01-17 14:00:00            1         1              1\n",
       "2016-01-24 14:00:00            1         1              1\n",
       "2016-01-31 14:00:00            1         1              1"
      ]
     },
     "execution_count": 142,
     "metadata": {},
     "output_type": "execute_result"
    }
   ],
   "source": [
    "temp[[\"dmy_hr14\", \"dmy_wkd6\", 'dmy_hr14_wkd6']].head()"
   ]
  },
  {
   "cell_type": "code",
   "execution_count": 52,
   "id": "4489dc48",
   "metadata": {},
   "outputs": [
    {
     "data": {
      "text/plain": [
       "222"
      ]
     },
     "execution_count": 52,
     "metadata": {},
     "output_type": "execute_result"
    }
   ],
   "source": [
    "len(train_df.columns)"
   ]
  },
  {
   "cell_type": "markdown",
   "id": "7630fabe",
   "metadata": {},
   "source": [
    "## Test"
   ]
  },
  {
   "cell_type": "code",
   "execution_count": 143,
   "id": "9b619aa3",
   "metadata": {
    "scrolled": true
   },
   "outputs": [
    {
     "data": {
      "text/plain": [
       "Index(['load_area_id', 'occurance_date_epoch_utc', 'hour', 'day', 'weekday',\n",
       "       'month', 'year', 'hrl_load_mw', 'temp', 'temp_feels_like', 'temp_min',\n",
       "       'temp_max', 'humidity', 'cloud_coverage', 'wind_speed',\n",
       "       'wind_direction', 'atmospheric_pressure', 'temp_scaled', 'temp_sqd',\n",
       "       'predicted_values', 'APE'],\n",
       "      dtype='object')"
      ]
     },
     "execution_count": 143,
     "metadata": {},
     "output_type": "execute_result"
    }
   ],
   "source": [
    "test_2021_df.columns"
   ]
  },
  {
   "cell_type": "code",
   "execution_count": 88,
   "id": "63c61e0c",
   "metadata": {},
   "outputs": [],
   "source": [
    "del test_2021_df['temp_feels_like']\n",
    "del test_2021_df['temp_min']\n",
    "del test_2021_df['temp_max']\n",
    "# del test_2021_df['predicted_values']\n",
    "# del test_2021_df['APE']"
   ]
  },
  {
   "cell_type": "code",
   "execution_count": 147,
   "id": "de42592f",
   "metadata": {},
   "outputs": [],
   "source": [
    "test_2021_df= pd.get_dummies(test_2021_df, columns=['hour'], prefix=\"dmy\", prefix_sep=\"_hr\")"
   ]
  },
  {
   "cell_type": "code",
   "execution_count": 148,
   "id": "25c91864",
   "metadata": {},
   "outputs": [],
   "source": [
    "test_2021_df= pd.get_dummies(test_2021_df, columns=['weekday'], prefix=\"dmy\", prefix_sep=\"_wkd\")"
   ]
  },
  {
   "cell_type": "code",
   "execution_count": 149,
   "id": "405e1537",
   "metadata": {},
   "outputs": [],
   "source": [
    "test_2021_df= pd.get_dummies(test_2021_df, columns=['month'], prefix=\"dmy\", prefix_sep=\"_mnth\")"
   ]
  },
  {
   "cell_type": "code",
   "execution_count": 150,
   "id": "30e218ff",
   "metadata": {},
   "outputs": [],
   "source": [
    "a = test_2021_df.columns[test_2021_df.columns.str.startswith('temp_')]\n",
    "b = test_2021_df.columns[test_2021_df.columns.str.startswith('dmy_mnth')]\n",
    "c = test_2021_df.columns[test_2021_df.columns.str.startswith('dmy_hr')]\n",
    "d = test_2021_df.columns[test_2021_df.columns.str.startswith('dmy_wkd')]\n",
    "\n",
    "for col1 in a:\n",
    "    for col2 in b:\n",
    "         test_2021_df[col2 + '_' + col1.split('_')[1]] = test_2021_df[col1].mul(test_2021_df[col2])\n",
    "\n",
    "for col1 in a:\n",
    "    for col2 in c:\n",
    "         test_2021_df[col2 + '_' + col1.split('_')[1]] = test_2021_df[col1].mul(test_2021_df[col2])\n",
    "\n",
    "for col1 in d:\n",
    "    for col2 in c:\n",
    "        test_2021_df[col2 + '_' + col1.split('_')[1]] = test_2021_df[col1].mul(test_2021_df[col2])\n"
   ]
  },
  {
   "cell_type": "code",
   "execution_count": 153,
   "id": "48bf2473",
   "metadata": {},
   "outputs": [
    {
     "data": {
      "text/plain": [
       "Index(['load_area_id', 'occurance_date_epoch_utc', 'day', 'year',\n",
       "       'hrl_load_mw', 'temp', 'humidity', 'cloud_coverage', 'wind_speed',\n",
       "       'wind_direction',\n",
       "       ...\n",
       "       'dmy_hr14_wkd6', 'dmy_hr15_wkd6', 'dmy_hr16_wkd6', 'dmy_hr17_wkd6',\n",
       "       'dmy_hr18_wkd6', 'dmy_hr19_wkd6', 'dmy_hr20_wkd6', 'dmy_hr21_wkd6',\n",
       "       'dmy_hr22_wkd6', 'dmy_hr23_wkd6'],\n",
       "      dtype='object', length=275)"
      ]
     },
     "execution_count": 153,
     "metadata": {},
     "output_type": "execute_result"
    }
   ],
   "source": [
    "test_2021_df.columns"
   ]
  },
  {
   "cell_type": "code",
   "execution_count": 154,
   "id": "86698382",
   "metadata": {
    "scrolled": true
   },
   "outputs": [
    {
     "data": {
      "text/html": [
       "<div>\n",
       "<style scoped>\n",
       "    .dataframe tbody tr th:only-of-type {\n",
       "        vertical-align: middle;\n",
       "    }\n",
       "\n",
       "    .dataframe tbody tr th {\n",
       "        vertical-align: top;\n",
       "    }\n",
       "\n",
       "    .dataframe thead th {\n",
       "        text-align: right;\n",
       "    }\n",
       "</style>\n",
       "<table border=\"1\" class=\"dataframe\">\n",
       "  <thead>\n",
       "    <tr style=\"text-align: right;\">\n",
       "      <th></th>\n",
       "      <th>dmy_hr14</th>\n",
       "      <th>dmy_wkd6</th>\n",
       "      <th>dmy_hr14_wkd6</th>\n",
       "    </tr>\n",
       "    <tr>\n",
       "      <th>iso_occurance_date_utc</th>\n",
       "      <th></th>\n",
       "      <th></th>\n",
       "      <th></th>\n",
       "    </tr>\n",
       "  </thead>\n",
       "  <tbody>\n",
       "    <tr>\n",
       "      <th>2021-01-03 14:00:00</th>\n",
       "      <td>1</td>\n",
       "      <td>1</td>\n",
       "      <td>1</td>\n",
       "    </tr>\n",
       "    <tr>\n",
       "      <th>2021-01-10 14:00:00</th>\n",
       "      <td>1</td>\n",
       "      <td>1</td>\n",
       "      <td>1</td>\n",
       "    </tr>\n",
       "    <tr>\n",
       "      <th>2021-01-17 14:00:00</th>\n",
       "      <td>1</td>\n",
       "      <td>1</td>\n",
       "      <td>1</td>\n",
       "    </tr>\n",
       "    <tr>\n",
       "      <th>2021-05-16 14:00:00</th>\n",
       "      <td>1</td>\n",
       "      <td>1</td>\n",
       "      <td>1</td>\n",
       "    </tr>\n",
       "    <tr>\n",
       "      <th>2021-05-23 14:00:00</th>\n",
       "      <td>1</td>\n",
       "      <td>1</td>\n",
       "      <td>1</td>\n",
       "    </tr>\n",
       "  </tbody>\n",
       "</table>\n",
       "</div>"
      ],
      "text/plain": [
       "                        dmy_hr14  dmy_wkd6  dmy_hr14_wkd6\n",
       "iso_occurance_date_utc                                   \n",
       "2021-01-03 14:00:00            1         1              1\n",
       "2021-01-10 14:00:00            1         1              1\n",
       "2021-01-17 14:00:00            1         1              1\n",
       "2021-05-16 14:00:00            1         1              1\n",
       "2021-05-23 14:00:00            1         1              1"
      ]
     },
     "execution_count": 154,
     "metadata": {},
     "output_type": "execute_result"
    }
   ],
   "source": [
    "temp = test_2021_df[(test_2021_df['dmy_hr14'] == 1) & (test_2021_df['dmy_wkd6'] == 1)]\n",
    "temp[[\"dmy_hr14\", \"dmy_wkd6\", 'dmy_hr14_wkd6']].head()"
   ]
  },
  {
   "cell_type": "markdown",
   "id": "a8067ea9",
   "metadata": {},
   "source": [
    "## write dataframe to S3 in csv format"
   ]
  },
  {
   "cell_type": "markdown",
   "id": "7af6cd5b",
   "metadata": {},
   "source": [
    "#### Train"
   ]
  },
  {
   "cell_type": "code",
   "execution_count": 92,
   "id": "0afb8fa7",
   "metadata": {},
   "outputs": [
    {
     "data": {
      "text/plain": [
       "{'ResponseMetadata': {'RequestId': '7WQVPS1K5CQT8E7X',\n",
       "  'HostId': '0cOM7yhN+NUm3U9flgtXM5qak6U+IB7YZj2gBJKqRv6YWdytfFu2PnLmTzJ8EhSu7HCFKgvQczA=',\n",
       "  'HTTPStatusCode': 200,\n",
       "  'HTTPHeaders': {'x-amz-id-2': '0cOM7yhN+NUm3U9flgtXM5qak6U+IB7YZj2gBJKqRv6YWdytfFu2PnLmTzJ8EhSu7HCFKgvQczA=',\n",
       "   'x-amz-request-id': '7WQVPS1K5CQT8E7X',\n",
       "   'date': 'Sat, 05 Jun 2021 22:30:38 GMT',\n",
       "   'etag': '\"57320537b261108431739306fd06445c\"',\n",
       "   'server': 'AmazonS3',\n",
       "   'content-length': '0'},\n",
       "  'RetryAttempts': 0},\n",
       " 'ETag': '\"57320537b261108431739306fd06445c\"'}"
      ]
     },
     "execution_count": 92,
     "metadata": {},
     "output_type": "execute_result"
    }
   ],
   "source": [
    "from io import StringIO\n",
    "import boto3\n",
    "\n",
    "bucket = 'energy-temperature-data' # already created on S3\n",
    "csv_buffer = StringIO()\n",
    "train_df.to_csv(csv_buffer)\n",
    "s3_resource = boto3.resource('s3')\n",
    "s3_resource.Object(bucket, 'energy_weather_automl/train.csv').put(Body=csv_buffer.getvalue())"
   ]
  },
  {
   "cell_type": "markdown",
   "id": "2a1c938b",
   "metadata": {},
   "source": [
    "#### Test"
   ]
  },
  {
   "cell_type": "code",
   "execution_count": 93,
   "id": "585ea1f1",
   "metadata": {
    "scrolled": true
   },
   "outputs": [
    {
     "data": {
      "text/plain": [
       "{'ResponseMetadata': {'RequestId': 'Q3K3X05DVEK106TC',\n",
       "  'HostId': 'FcGQ57ze6SaDL3xcQvOAv7BZ6TZ9UDYKX+vovzPj7fwkS7W2YKGtAUQgbl4vKZ23FSmJ0stBIB8=',\n",
       "  'HTTPStatusCode': 200,\n",
       "  'HTTPHeaders': {'x-amz-id-2': 'FcGQ57ze6SaDL3xcQvOAv7BZ6TZ9UDYKX+vovzPj7fwkS7W2YKGtAUQgbl4vKZ23FSmJ0stBIB8=',\n",
       "   'x-amz-request-id': 'Q3K3X05DVEK106TC',\n",
       "   'date': 'Sat, 05 Jun 2021 22:30:55 GMT',\n",
       "   'etag': '\"309755327348b8d77abbbb6769b9f7a2\"',\n",
       "   'server': 'AmazonS3',\n",
       "   'content-length': '0'},\n",
       "  'RetryAttempts': 0},\n",
       " 'ETag': '\"309755327348b8d77abbbb6769b9f7a2\"'}"
      ]
     },
     "execution_count": 93,
     "metadata": {},
     "output_type": "execute_result"
    }
   ],
   "source": [
    "from io import StringIO\n",
    "import boto3\n",
    "\n",
    "bucket = 'energy-temperature-data'\n",
    "csv_buffer = StringIO()\n",
    "test_2021_df.to_csv(csv_buffer)\n",
    "s3_resource = boto3.resource('s3')\n",
    "s3_resource.Object(bucket, 'energy_weather_automl/test.csv').put(Body=csv_buffer.getvalue())"
   ]
  },
  {
   "cell_type": "markdown",
   "id": "1e9abc73",
   "metadata": {},
   "source": [
    "## AWS AutoMl AutoPilot Model created - Test Accuracy of \"best model\" "
   ]
  },
  {
   "cell_type": "code",
   "execution_count": 2,
   "id": "6b1b644a",
   "metadata": {},
   "outputs": [],
   "source": [
    "import boto3\n",
    "import pandas as pd"
   ]
  },
  {
   "cell_type": "markdown",
   "id": "1d79d42d",
   "metadata": {},
   "source": [
    "#### import test csv - drop hrl_load_mw (remove lable)"
   ]
  },
  {
   "cell_type": "code",
   "execution_count": 3,
   "id": "c681c3aa",
   "metadata": {
    "scrolled": true
   },
   "outputs": [
    {
     "data": {
      "text/html": [
       "<div>\n",
       "<style scoped>\n",
       "    .dataframe tbody tr th:only-of-type {\n",
       "        vertical-align: middle;\n",
       "    }\n",
       "\n",
       "    .dataframe tbody tr th {\n",
       "        vertical-align: top;\n",
       "    }\n",
       "\n",
       "    .dataframe thead th {\n",
       "        text-align: right;\n",
       "    }\n",
       "</style>\n",
       "<table border=\"1\" class=\"dataframe\">\n",
       "  <thead>\n",
       "    <tr style=\"text-align: right;\">\n",
       "      <th></th>\n",
       "      <th>iso_occurance_date_utc</th>\n",
       "      <th>load_area_id</th>\n",
       "      <th>occurance_date_epoch_utc</th>\n",
       "      <th>hour</th>\n",
       "      <th>day</th>\n",
       "      <th>weekday</th>\n",
       "      <th>month</th>\n",
       "      <th>year</th>\n",
       "      <th>hrl_load_mw</th>\n",
       "      <th>temp</th>\n",
       "      <th>humidity</th>\n",
       "      <th>cloud_coverage</th>\n",
       "      <th>wind_speed</th>\n",
       "      <th>wind_direction</th>\n",
       "      <th>atmospheric_pressure</th>\n",
       "      <th>temp_scaled</th>\n",
       "      <th>temp_sqd</th>\n",
       "    </tr>\n",
       "  </thead>\n",
       "  <tbody>\n",
       "    <tr>\n",
       "      <th>0</th>\n",
       "      <td>2021-01-24 12:00:00</td>\n",
       "      <td>DUQ</td>\n",
       "      <td>1611489600</td>\n",
       "      <td>12</td>\n",
       "      <td>24</td>\n",
       "      <td>6</td>\n",
       "      <td>1</td>\n",
       "      <td>2021</td>\n",
       "      <td>1515.108</td>\n",
       "      <td>12.61</td>\n",
       "      <td>85</td>\n",
       "      <td>0.40</td>\n",
       "      <td>3.44</td>\n",
       "      <td>140</td>\n",
       "      <td>1026</td>\n",
       "      <td>-1.914504</td>\n",
       "      <td>3.665325</td>\n",
       "    </tr>\n",
       "    <tr>\n",
       "      <th>1</th>\n",
       "      <td>2021-03-02 08:00:00</td>\n",
       "      <td>DUQ</td>\n",
       "      <td>1614672000</td>\n",
       "      <td>8</td>\n",
       "      <td>2</td>\n",
       "      <td>1</td>\n",
       "      <td>3</td>\n",
       "      <td>2021</td>\n",
       "      <td>1344.279</td>\n",
       "      <td>22.68</td>\n",
       "      <td>63</td>\n",
       "      <td>0.75</td>\n",
       "      <td>12.66</td>\n",
       "      <td>340</td>\n",
       "      <td>1024</td>\n",
       "      <td>-1.257825</td>\n",
       "      <td>1.582125</td>\n",
       "    </tr>\n",
       "    <tr>\n",
       "      <th>2</th>\n",
       "      <td>2021-01-25 05:00:00</td>\n",
       "      <td>DUQ</td>\n",
       "      <td>1611550800</td>\n",
       "      <td>5</td>\n",
       "      <td>25</td>\n",
       "      <td>0</td>\n",
       "      <td>1</td>\n",
       "      <td>2021</td>\n",
       "      <td>1404.307</td>\n",
       "      <td>26.20</td>\n",
       "      <td>80</td>\n",
       "      <td>0.90</td>\n",
       "      <td>1.05</td>\n",
       "      <td>321</td>\n",
       "      <td>1016</td>\n",
       "      <td>-1.028281</td>\n",
       "      <td>1.057363</td>\n",
       "    </tr>\n",
       "    <tr>\n",
       "      <th>3</th>\n",
       "      <td>2021-04-08 00:00:00</td>\n",
       "      <td>DUQ</td>\n",
       "      <td>1617840000</td>\n",
       "      <td>0</td>\n",
       "      <td>8</td>\n",
       "      <td>3</td>\n",
       "      <td>4</td>\n",
       "      <td>2021</td>\n",
       "      <td>1502.855</td>\n",
       "      <td>72.99</td>\n",
       "      <td>38</td>\n",
       "      <td>0.75</td>\n",
       "      <td>3.44</td>\n",
       "      <td>20</td>\n",
       "      <td>1013</td>\n",
       "      <td>2.022959</td>\n",
       "      <td>4.092362</td>\n",
       "    </tr>\n",
       "    <tr>\n",
       "      <th>4</th>\n",
       "      <td>2021-02-12 14:00:00</td>\n",
       "      <td>DUQ</td>\n",
       "      <td>1613138400</td>\n",
       "      <td>14</td>\n",
       "      <td>12</td>\n",
       "      <td>4</td>\n",
       "      <td>2</td>\n",
       "      <td>2021</td>\n",
       "      <td>1752.006</td>\n",
       "      <td>22.19</td>\n",
       "      <td>68</td>\n",
       "      <td>0.90</td>\n",
       "      <td>10.36</td>\n",
       "      <td>60</td>\n",
       "      <td>1021</td>\n",
       "      <td>-1.289779</td>\n",
       "      <td>1.663530</td>\n",
       "    </tr>\n",
       "  </tbody>\n",
       "</table>\n",
       "</div>"
      ],
      "text/plain": [
       "  iso_occurance_date_utc load_area_id  occurance_date_epoch_utc  hour  day  \\\n",
       "0    2021-01-24 12:00:00          DUQ                1611489600    12   24   \n",
       "1    2021-03-02 08:00:00          DUQ                1614672000     8    2   \n",
       "2    2021-01-25 05:00:00          DUQ                1611550800     5   25   \n",
       "3    2021-04-08 00:00:00          DUQ                1617840000     0    8   \n",
       "4    2021-02-12 14:00:00          DUQ                1613138400    14   12   \n",
       "\n",
       "   weekday  month  year  hrl_load_mw   temp  humidity  cloud_coverage  \\\n",
       "0        6      1  2021     1515.108  12.61        85            0.40   \n",
       "1        1      3  2021     1344.279  22.68        63            0.75   \n",
       "2        0      1  2021     1404.307  26.20        80            0.90   \n",
       "3        3      4  2021     1502.855  72.99        38            0.75   \n",
       "4        4      2  2021     1752.006  22.19        68            0.90   \n",
       "\n",
       "   wind_speed  wind_direction  atmospheric_pressure  temp_scaled  temp_sqd  \n",
       "0        3.44             140                  1026    -1.914504  3.665325  \n",
       "1       12.66             340                  1024    -1.257825  1.582125  \n",
       "2        1.05             321                  1016    -1.028281  1.057363  \n",
       "3        3.44              20                  1013     2.022959  4.092362  \n",
       "4       10.36              60                  1021    -1.289779  1.663530  "
      ]
     },
     "execution_count": 3,
     "metadata": {},
     "output_type": "execute_result"
    }
   ],
   "source": [
    "bucket = \"energy-temperature-data\"\n",
    "file_name = \"energy_weather_automl/test.csv\"\n",
    "s3 = boto3.client('s3') \n",
    "obj = s3.get_object(Bucket= bucket, Key= file_name) \n",
    "\n",
    "test_df = pd.read_csv(obj['Body']) \n",
    "test_df.head()"
   ]
  },
  {
   "cell_type": "code",
   "execution_count": 4,
   "id": "33a319ae",
   "metadata": {},
   "outputs": [],
   "source": [
    "del test_df['hrl_load_mw']"
   ]
  },
  {
   "cell_type": "code",
   "execution_count": 5,
   "id": "cc0f6ed5",
   "metadata": {
    "scrolled": true
   },
   "outputs": [
    {
     "data": {
      "text/html": [
       "<div>\n",
       "<style scoped>\n",
       "    .dataframe tbody tr th:only-of-type {\n",
       "        vertical-align: middle;\n",
       "    }\n",
       "\n",
       "    .dataframe tbody tr th {\n",
       "        vertical-align: top;\n",
       "    }\n",
       "\n",
       "    .dataframe thead th {\n",
       "        text-align: right;\n",
       "    }\n",
       "</style>\n",
       "<table border=\"1\" class=\"dataframe\">\n",
       "  <thead>\n",
       "    <tr style=\"text-align: right;\">\n",
       "      <th></th>\n",
       "      <th>iso_occurance_date_utc</th>\n",
       "      <th>load_area_id</th>\n",
       "      <th>occurance_date_epoch_utc</th>\n",
       "      <th>hour</th>\n",
       "      <th>day</th>\n",
       "      <th>weekday</th>\n",
       "      <th>month</th>\n",
       "      <th>year</th>\n",
       "      <th>temp</th>\n",
       "      <th>humidity</th>\n",
       "      <th>cloud_coverage</th>\n",
       "      <th>wind_speed</th>\n",
       "      <th>wind_direction</th>\n",
       "      <th>atmospheric_pressure</th>\n",
       "      <th>temp_scaled</th>\n",
       "      <th>temp_sqd</th>\n",
       "    </tr>\n",
       "  </thead>\n",
       "  <tbody>\n",
       "    <tr>\n",
       "      <th>0</th>\n",
       "      <td>2021-01-24 12:00:00</td>\n",
       "      <td>DUQ</td>\n",
       "      <td>1611489600</td>\n",
       "      <td>12</td>\n",
       "      <td>24</td>\n",
       "      <td>6</td>\n",
       "      <td>1</td>\n",
       "      <td>2021</td>\n",
       "      <td>12.61</td>\n",
       "      <td>85</td>\n",
       "      <td>0.40</td>\n",
       "      <td>3.44</td>\n",
       "      <td>140</td>\n",
       "      <td>1026</td>\n",
       "      <td>-1.914504</td>\n",
       "      <td>3.665325</td>\n",
       "    </tr>\n",
       "    <tr>\n",
       "      <th>1</th>\n",
       "      <td>2021-03-02 08:00:00</td>\n",
       "      <td>DUQ</td>\n",
       "      <td>1614672000</td>\n",
       "      <td>8</td>\n",
       "      <td>2</td>\n",
       "      <td>1</td>\n",
       "      <td>3</td>\n",
       "      <td>2021</td>\n",
       "      <td>22.68</td>\n",
       "      <td>63</td>\n",
       "      <td>0.75</td>\n",
       "      <td>12.66</td>\n",
       "      <td>340</td>\n",
       "      <td>1024</td>\n",
       "      <td>-1.257825</td>\n",
       "      <td>1.582125</td>\n",
       "    </tr>\n",
       "    <tr>\n",
       "      <th>2</th>\n",
       "      <td>2021-01-25 05:00:00</td>\n",
       "      <td>DUQ</td>\n",
       "      <td>1611550800</td>\n",
       "      <td>5</td>\n",
       "      <td>25</td>\n",
       "      <td>0</td>\n",
       "      <td>1</td>\n",
       "      <td>2021</td>\n",
       "      <td>26.20</td>\n",
       "      <td>80</td>\n",
       "      <td>0.90</td>\n",
       "      <td>1.05</td>\n",
       "      <td>321</td>\n",
       "      <td>1016</td>\n",
       "      <td>-1.028281</td>\n",
       "      <td>1.057363</td>\n",
       "    </tr>\n",
       "    <tr>\n",
       "      <th>3</th>\n",
       "      <td>2021-04-08 00:00:00</td>\n",
       "      <td>DUQ</td>\n",
       "      <td>1617840000</td>\n",
       "      <td>0</td>\n",
       "      <td>8</td>\n",
       "      <td>3</td>\n",
       "      <td>4</td>\n",
       "      <td>2021</td>\n",
       "      <td>72.99</td>\n",
       "      <td>38</td>\n",
       "      <td>0.75</td>\n",
       "      <td>3.44</td>\n",
       "      <td>20</td>\n",
       "      <td>1013</td>\n",
       "      <td>2.022959</td>\n",
       "      <td>4.092362</td>\n",
       "    </tr>\n",
       "    <tr>\n",
       "      <th>4</th>\n",
       "      <td>2021-02-12 14:00:00</td>\n",
       "      <td>DUQ</td>\n",
       "      <td>1613138400</td>\n",
       "      <td>14</td>\n",
       "      <td>12</td>\n",
       "      <td>4</td>\n",
       "      <td>2</td>\n",
       "      <td>2021</td>\n",
       "      <td>22.19</td>\n",
       "      <td>68</td>\n",
       "      <td>0.90</td>\n",
       "      <td>10.36</td>\n",
       "      <td>60</td>\n",
       "      <td>1021</td>\n",
       "      <td>-1.289779</td>\n",
       "      <td>1.663530</td>\n",
       "    </tr>\n",
       "  </tbody>\n",
       "</table>\n",
       "</div>"
      ],
      "text/plain": [
       "  iso_occurance_date_utc load_area_id  occurance_date_epoch_utc  hour  day  \\\n",
       "0    2021-01-24 12:00:00          DUQ                1611489600    12   24   \n",
       "1    2021-03-02 08:00:00          DUQ                1614672000     8    2   \n",
       "2    2021-01-25 05:00:00          DUQ                1611550800     5   25   \n",
       "3    2021-04-08 00:00:00          DUQ                1617840000     0    8   \n",
       "4    2021-02-12 14:00:00          DUQ                1613138400    14   12   \n",
       "\n",
       "   weekday  month  year   temp  humidity  cloud_coverage  wind_speed  \\\n",
       "0        6      1  2021  12.61        85            0.40        3.44   \n",
       "1        1      3  2021  22.68        63            0.75       12.66   \n",
       "2        0      1  2021  26.20        80            0.90        1.05   \n",
       "3        3      4  2021  72.99        38            0.75        3.44   \n",
       "4        4      2  2021  22.19        68            0.90       10.36   \n",
       "\n",
       "   wind_direction  atmospheric_pressure  temp_scaled  temp_sqd  \n",
       "0             140                  1026    -1.914504  3.665325  \n",
       "1             340                  1024    -1.257825  1.582125  \n",
       "2             321                  1016    -1.028281  1.057363  \n",
       "3              20                  1013     2.022959  4.092362  \n",
       "4              60                  1021    -1.289779  1.663530  "
      ]
     },
     "execution_count": 5,
     "metadata": {},
     "output_type": "execute_result"
    }
   ],
   "source": [
    "test_df.head()"
   ]
  },
  {
   "cell_type": "markdown",
   "id": "d68c325a",
   "metadata": {},
   "source": [
    "#### write file w/o label"
   ]
  },
  {
   "cell_type": "code",
   "execution_count": 6,
   "id": "cf2ae8c5",
   "metadata": {
    "scrolled": true
   },
   "outputs": [
    {
     "data": {
      "text/plain": [
       "{'ResponseMetadata': {'RequestId': 'CDBT6XFJ0JS0B0A0',\n",
       "  'HostId': 'T6q/dONtRBAZWWHfg6NuD2PHxsRJ1TaPlO2si/sNgzSPEuZJ6/5sLiJ9HLzeOFyQ7CF8vBWuuc4=',\n",
       "  'HTTPStatusCode': 200,\n",
       "  'HTTPHeaders': {'x-amz-id-2': 'T6q/dONtRBAZWWHfg6NuD2PHxsRJ1TaPlO2si/sNgzSPEuZJ6/5sLiJ9HLzeOFyQ7CF8vBWuuc4=',\n",
       "   'x-amz-request-id': 'CDBT6XFJ0JS0B0A0',\n",
       "   'date': 'Sun, 06 Jun 2021 16:41:02 GMT',\n",
       "   'etag': '\"7e2a7685bfd94709863680c497415174\"',\n",
       "   'server': 'AmazonS3',\n",
       "   'content-length': '0'},\n",
       "  'RetryAttempts': 0},\n",
       " 'ETag': '\"7e2a7685bfd94709863680c497415174\"'}"
      ]
     },
     "execution_count": 6,
     "metadata": {},
     "output_type": "execute_result"
    }
   ],
   "source": [
    "from io import StringIO\n",
    "import boto3\n",
    "\n",
    "bucket = 'energy-temperature-data'\n",
    "csv_buffer = StringIO()\n",
    "test_df.to_csv(csv_buffer, index=False)\n",
    "s3_resource = boto3.resource('s3')\n",
    "s3_resource.Object(bucket, 'energy_weather_automl/test_rmlabel.csv').put(Body=csv_buffer.getvalue())"
   ]
  },
  {
   "cell_type": "markdown",
   "id": "f65ff237",
   "metadata": {},
   "source": [
    "## Invoke model endpoint with test features"
   ]
  },
  {
   "cell_type": "code",
   "execution_count": 7,
   "id": "2e38b6ca",
   "metadata": {
    "scrolled": true
   },
   "outputs": [],
   "source": [
    "import sys\n",
    "import csv\n",
    "import boto3\n",
    "bucket = \"energy-temperature-data\"\n",
    "file_name = \"energy_weather_automl/test_rmlabel.csv\"\n",
    "\n",
    "end_point_name = 'lse-demand-planning-trial2-f5024f2b2f254b7eb655ec496a4aa35e'\n",
    "sm_rt = boto3.Session().client('runtime.sagemaker')\n",
    "\n",
    "s3 = boto3.client('s3') \n",
    "data = s3.get_object(Bucket= bucket, Key= file_name) \n",
    "\n",
    "lines = data['Body'].read().decode('utf-8').splitlines(True)\n",
    "reader = csv.reader(lines)\n",
    "\n",
    "cntr = 0\n",
    "for row in reader:    \n",
    "    if cntr == 0:\n",
    "        cntr+=1\n",
    "        continue\n",
    "    else:\n",
    "        index = row[0]\n",
    "        row = str(row)[1:-1]\n",
    "        response = sm_rt.invoke_endpoint(EndpointName=end_point_name, \n",
    "                                         ContentType='text/csv',       \n",
    "                                         Accept='text/csv', Body=row)\n",
    "        \n",
    "        response = response['Body'].read().decode(\"utf-8\")\n",
    "        test_df.loc[index,['predicted_values']] = response       \n",
    "        "
   ]
  },
  {
   "cell_type": "markdown",
   "id": "2cf3799b",
   "metadata": {},
   "source": [
    "## Demo Invoke Endpoint"
   ]
  },
  {
   "cell_type": "code",
   "execution_count": 9,
   "id": "077265e9",
   "metadata": {},
   "outputs": [
    {
     "name": "stdout",
     "output_type": "stream",
     "text": [
      "2021-01-24 12:00:00\n",
      "1679.4661865234375\n",
      "2021-03-02 08:00:00\n",
      "1617.9146728515625\n",
      "2021-01-25 05:00:00\n",
      "1622.079833984375\n",
      "2021-04-08 00:00:00\n",
      "1739.96435546875\n"
     ]
    }
   ],
   "source": [
    "import sys\n",
    "import csv\n",
    "import boto3\n",
    "bucket = \"energy-temperature-data\"\n",
    "file_name = \"energy_weather_automl/test_rmlabel.csv\"\n",
    "\n",
    "end_point_name = 'lse-demand-planning-trial2-f5024f2b2f254b7eb655ec496a4aa35e'\n",
    "sm_rt = boto3.Session().client('runtime.sagemaker')\n",
    "\n",
    "s3 = boto3.client('s3') \n",
    "data = s3.get_object(Bucket= bucket, Key= file_name) \n",
    "\n",
    "lines = data['Body'].read().decode('utf-8').splitlines(True)\n",
    "reader = csv.reader(lines)\n",
    "\n",
    "cntr = 0\n",
    "for row in reader:    \n",
    "    if cntr == 0:\n",
    "        cntr+=1\n",
    "        continue\n",
    "    elif cntr >= 5:\n",
    "        break\n",
    "    else:\n",
    "        print(row[0])\n",
    "        row = str(row)[1:-1]\n",
    "        response = sm_rt.invoke_endpoint(EndpointName=end_point_name, \n",
    "                                         ContentType='text/csv',       \n",
    "                                         Accept='text/csv', Body=row)\n",
    "        \n",
    "        response = response['Body'].read().decode(\"utf-8\")\n",
    "        print(str(response))\n",
    "    cntr+=1"
   ]
  },
  {
   "cell_type": "code",
   "execution_count": 108,
   "id": "b9992f77",
   "metadata": {},
   "outputs": [],
   "source": [
    "test_df = test_df.set_index('iso_occurance_date_utc')"
   ]
  },
  {
   "cell_type": "code",
   "execution_count": 110,
   "id": "bb270103",
   "metadata": {},
   "outputs": [],
   "source": [
    "test_df['predicted_values'] = 1.00"
   ]
  },
  {
   "cell_type": "markdown",
   "id": "88eb835a",
   "metadata": {},
   "source": [
    "## Out of Sample AutoMl model MAPE"
   ]
  },
  {
   "cell_type": "code",
   "execution_count": 130,
   "id": "f2a007f8",
   "metadata": {},
   "outputs": [],
   "source": [
    "test_df['predicted_values']=test_df['predicted_values'].astype(float)"
   ]
  },
  {
   "cell_type": "code",
   "execution_count": 132,
   "id": "c4ab11d4",
   "metadata": {
    "scrolled": true
   },
   "outputs": [
    {
     "name": "stdout",
     "output_type": "stream",
     "text": [
      "Out of sample AutoML MAPE:  21.22777661821416\n"
     ]
    }
   ],
   "source": [
    "test_df['APE'] = abs((test_df['hrl_load_mw']-test_df['predicted_values'])/test_df['hrl_load_mw'])*100\n",
    "print(\"Out of sample AutoML MAPE: \", test_df['APE'].mean())"
   ]
  }
 ],
 "metadata": {
  "kernelspec": {
   "display_name": "conda_python3",
   "language": "python",
   "name": "conda_python3"
  },
  "language_info": {
   "codemirror_mode": {
    "name": "ipython",
    "version": 3
   },
   "file_extension": ".py",
   "mimetype": "text/x-python",
   "name": "python",
   "nbconvert_exporter": "python",
   "pygments_lexer": "ipython3",
   "version": "3.6.13"
  }
 },
 "nbformat": 4,
 "nbformat_minor": 5
}
